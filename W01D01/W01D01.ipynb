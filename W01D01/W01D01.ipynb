{
 "cells": [
  {
   "cell_type": "markdown",
   "id": "0d1e5b5a-c9e3-44f4-bc5c-38f5259c64d0",
   "metadata": {},
   "source": [
    "# Basics in Learning\n",
    "\n",
    "### SYNTAX:- RULES FOR WRITING PROGRAMMING LANGUAGE\n",
    "### Use Jupyter Notebook to either write python code or write notes\n",
    "### For notes, you will use simple comments with # in front or markdown language\n",
    "### for converting a cell into markdown notes cell, type command ESC + m\n",
    "### https://www.markdownguide.org/cheat-sheet/\n",
    "### Command + Enter in MacOS, Shift + Enter"
   ]
  },
  {
   "cell_type": "code",
   "execution_count": null,
   "id": "7b2fa946-b2bb-41a4-bf8c-038e8065520b",
   "metadata": {},
   "outputs": [],
   "source": [
    "# single cell"
   ]
  },
  {
   "cell_type": "code",
   "execution_count": 4,
   "id": "09708029-8e56-4b0f-b292-18d0cae81686",
   "metadata": {},
   "outputs": [
    {
     "name": "stdout",
     "output_type": "stream",
     "text": [
      "Length of this name is GREATER than 5  velavan\n",
      "Length of this name is LESSER than or EQUAL to 5  rajiv\n",
      "Length of this name is LESSER than or EQUAL to 5  suyog\n",
      "Length of this name is GREATER than 5  pramod\n",
      "Length of this name is GREATER than 5  jagrat\n",
      "Length of this name is GREATER than 5  avinash\n",
      "Length of this name is GREATER than 5  sahage\n",
      "Length of this name is LESSER than or EQUAL to 5  amit\n",
      "The history saving thread hit an unexpected error (OperationalError('attempt to write a readonly database')).History will not be written to the database.\n"
     ]
    }
   ],
   "source": [
    "# You don't need to understand this python code right now, but you need to understand the power of programming language.\n",
    "\n",
    "names_of_students = [\"velavan\", \"rajiv\", \"suyog\", \"pramod\", \"jagrat\", \"avinash\", \"sahage\", \"amit\"]\n",
    "\n",
    "for specific_name in names_of_students:\n",
    "    if len(specific_name) > 5:\n",
    "        print('Length of this name is GREATER than 5 ', specific_name)\n",
    "    else:\n",
    "        print('Length of this name is LESSER than or EQUAL to 5 ', specific_name)"
   ]
  },
  {
   "cell_type": "code",
   "execution_count": 7,
   "id": "a1919fee-ef2f-4e87-ba54-a0a3a3ee3a26",
   "metadata": {},
   "outputs": [],
   "source": [
    "# Variables in Python\n",
    "\n",
    "x = \"mango\"\n",
    "\n",
    "name = \"Mohit\"\n",
    "\n",
    "\n",
    "maggi_price = 10\n",
    "\n",
    "gst_price = 1.8\n",
    "\n",
    "\n",
    "\n",
    "# Variable is a name that refers to a value stored in memory\n",
    "# x, name, maggi_price, gst_price are variables\n",
    "# \"mango\", \"Mohit\", 10, 1.8 are the values\n",
    "\n",
    "# Rules of choosing a variable name\n",
    "1. Must start with a letter or underscore\n",
    "2. case sensitive (name and Name are different variables)"
   ]
  },
  {
   "cell_type": "code",
   "execution_count": 8,
   "id": "acad9cba-f027-4e68-9793-cd45dae38381",
   "metadata": {},
   "outputs": [
    {
     "ename": "SyntaxError",
     "evalue": "invalid syntax (4269404949.py, line 1)",
     "output_type": "error",
     "traceback": [
      "\u001b[0;36m  Cell \u001b[0;32mIn[8], line 1\u001b[0;36m\u001b[0m\n\u001b[0;31m    2x = \"mango\"\u001b[0m\n\u001b[0m     ^\u001b[0m\n\u001b[0;31mSyntaxError\u001b[0m\u001b[0;31m:\u001b[0m invalid syntax\n"
     ]
    }
   ],
   "source": [
    "2x = \"mango\""
   ]
  },
  {
   "cell_type": "code",
   "execution_count": 10,
   "id": "3a729fcf-bb25-41e5-ac60-48e83c40bc5b",
   "metadata": {},
   "outputs": [
    {
     "name": "stdout",
     "output_type": "stream",
     "text": [
      "mango\n"
     ]
    }
   ],
   "source": [
    "r2x = \"mango\"\n",
    "print(r2x)"
   ]
  },
  {
   "cell_type": "code",
   "execution_count": 11,
   "id": "f0b5626c-1a71-47a9-a730-b0db664aa77f",
   "metadata": {},
   "outputs": [
    {
     "name": "stdout",
     "output_type": "stream",
     "text": [
      "mango\n"
     ]
    }
   ],
   "source": [
    "_2x = \"mango\"\n",
    "\n",
    "print(_2x)"
   ]
  },
  {
   "cell_type": "code",
   "execution_count": 12,
   "id": "4c95eb3d-0d66-4349-af70-5288c5e35c30",
   "metadata": {},
   "outputs": [],
   "source": [
    "name = \"velavan\"\n",
    "\n",
    "Name = \"amit\""
   ]
  },
  {
   "cell_type": "code",
   "execution_count": 13,
   "id": "ba0658bf-5acc-4d17-b1ed-ae12ddb3e299",
   "metadata": {},
   "outputs": [
    {
     "name": "stdout",
     "output_type": "stream",
     "text": [
      "velavan\n"
     ]
    }
   ],
   "source": [
    "print(name)"
   ]
  },
  {
   "cell_type": "code",
   "execution_count": 14,
   "id": "8d2b9fd9-ba05-43b4-9451-53cf8a343a18",
   "metadata": {},
   "outputs": [
    {
     "name": "stdout",
     "output_type": "stream",
     "text": [
      "amit\n"
     ]
    }
   ],
   "source": [
    "print(Name)"
   ]
  },
  {
   "cell_type": "code",
   "execution_count": null,
   "id": "ecb51844-1298-4825-af96-612ce534a01a",
   "metadata": {},
   "outputs": [],
   "source": [
    "# Basic Data Types in Python\n",
    "# What is a Data Type?\n",
    "# Structure where you can store different types of stuff based on the structure.\n",
    "# Data Store\n",
    "\n",
    "1. Grain Store\n",
    "2. Milk Store\n",
    "\n",
    "Q1) If I have to store rice, which type of store will I chose? \n",
    "Grain\n",
    "\n",
    "Q2) If I have to store cold drinks, which type of store will I chose?\n",
    "Milk"
   ]
  },
  {
   "cell_type": "code",
   "execution_count": 15,
   "id": "7f63c20e-0aa2-4b36-9f18-08b1fdf160ae",
   "metadata": {},
   "outputs": [],
   "source": [
    "#1 Integer\n",
    "\n",
    "# Numbers without decimal part.\n",
    "\n",
    "x = 34\n",
    "y = 28\n",
    "\n",
    "# x and y are pointing to integers"
   ]
  },
  {
   "cell_type": "code",
   "execution_count": 16,
   "id": "80d09ff0-a082-4ab2-ba54-d55b5351f7e6",
   "metadata": {},
   "outputs": [],
   "source": [
    "#2 Float\n",
    "\n",
    "# Numbers with decimal part\n",
    "\n",
    "x = 34.45\n",
    "y = 23.12\n",
    "\n",
    "# x and y are pointing to float values"
   ]
  },
  {
   "cell_type": "code",
   "execution_count": 17,
   "id": "72da80db-e4d3-4ea1-813d-234f71b1e047",
   "metadata": {},
   "outputs": [],
   "source": [
    "#3 String\n",
    "\n",
    "# Collection of Characters\n",
    "# human language words, sentences, etc are strings.\n",
    "\n",
    "x = \"Rajiv\"\n",
    "\n",
    "y = \"Kapoor\"\n",
    "\n",
    "z = \"I live in Bangalore and I like the weather here\"\n",
    "\n",
    "# x, y, and z are pointing to Strings."
   ]
  },
  {
   "cell_type": "code",
   "execution_count": null,
   "id": "9e05e19b-aba1-4bec-a60e-944d6b76f95b",
   "metadata": {},
   "outputs": [],
   "source": [
    "#4 List\n",
    "\n",
    "# Collection of other basic data types\n",
    "\n",
    "x = [\"Rajiv\", 34.45, 100]\n",
    "\n",
    "# x is pointing to a list."
   ]
  },
  {
   "cell_type": "code",
   "execution_count": null,
   "id": "8d3d9ce3-916d-49c0-b237-d2799d396bc4",
   "metadata": {},
   "outputs": [],
   "source": [
    "# Dictionary, Tuple, and Set we will take after some time."
   ]
  },
  {
   "cell_type": "code",
   "execution_count": null,
   "id": "b7007963-69c4-4c0c-a41a-046ca0a8899a",
   "metadata": {},
   "outputs": [],
   "source": [
    "# Operators in Python\n",
    "\n",
    "1. Arithmetic Operators\n",
    "+, -, *, /, %(Modulus), // (floor division), **(exponentiation) \n",
    "\n",
    "\n",
    "2. Assignment Operators\n",
    "=, +=, -=, *=, /=\n",
    "\n",
    "3. Comparison Operators\n",
    "== (equal to) \n",
    "!= (not equal to)\n",
    ">  (greater than)\n",
    "<\n",
    ">= (greater than equal to)\n",
    "<=\n",
    "\n",
    "4. Logical Operators\n",
    "AND, OR, NOT\n",
    "\n",
    "5. Membership Operators\n",
    "in, not in\n",
    "\n",
    "6. Identity Operators\n",
    "is , is not"
   ]
  },
  {
   "cell_type": "code",
   "execution_count": 26,
   "id": "39e28c7b-3853-43ac-bfe1-9a93b68985d1",
   "metadata": {},
   "outputs": [
    {
     "name": "stdout",
     "output_type": "stream",
     "text": [
      "x 9\n",
      "y 4\n",
      "z 8\n",
      "a 2.0\n",
      "b 2.2\n",
      "c 16\n"
     ]
    }
   ],
   "source": [
    "x = 4+5\n",
    "y = 5-1\n",
    "z = 2*4\n",
    "a = 10/5\n",
    "b = 11/5\n",
    "c = 2**4\n",
    "\n",
    "\n",
    "print('x', x)\n",
    "print('y', y)\n",
    "print('z', z)\n",
    "print('a', a)\n",
    "print('b', b)\n",
    "print('c', c)"
   ]
  },
  {
   "cell_type": "code",
   "execution_count": 25,
   "id": "7f666837-9719-4f8d-9383-5c165cf7415c",
   "metadata": {},
   "outputs": [
    {
     "name": "stdout",
     "output_type": "stream",
     "text": [
      "a 2\n",
      "b 2\n"
     ]
    }
   ],
   "source": [
    "# // (floor division)\n",
    "\n",
    "a = 10//5\n",
    "print('a', a)\n",
    "\n",
    "b = 11//5\n",
    "print('b', b)"
   ]
  },
  {
   "cell_type": "code",
   "execution_count": 27,
   "id": "69cb5617-8777-4140-b946-99597ea812fd",
   "metadata": {},
   "outputs": [
    {
     "name": "stdout",
     "output_type": "stream",
     "text": [
      "b 1\n"
     ]
    }
   ],
   "source": [
    "# %(Modulus)\n",
    "\n",
    "b = 11%5\n",
    "\n",
    "# what is the remainder of this operaton?\n",
    "print('b', b)"
   ]
  },
  {
   "cell_type": "code",
   "execution_count": 29,
   "id": "c5414098-f495-4c56-b8d7-c67fb6021f82",
   "metadata": {},
   "outputs": [
    {
     "name": "stdout",
     "output_type": "stream",
     "text": [
      "Rajiv Kapoor\n"
     ]
    }
   ],
   "source": [
    "# Few Arithmetic operators are applied on other than numbers also like as follows:-\n",
    "\n",
    "x = \"Rajiv\" + \" Kapoor\"\n",
    "print(x)"
   ]
  },
  {
   "cell_type": "code",
   "execution_count": 30,
   "id": "3317fbbc-5993-4642-90ed-add9478154e7",
   "metadata": {},
   "outputs": [
    {
     "name": "stdout",
     "output_type": "stream",
     "text": [
      "34\n"
     ]
    }
   ],
   "source": [
    "# 2. Assignment Operators\n",
    "# =, +=, -=, *=, /=\n",
    "\n",
    "x = 34\n",
    "print(x)"
   ]
  },
  {
   "cell_type": "code",
   "execution_count": 31,
   "id": "06fe7fe1-defb-40db-b4d0-f441c99efad7",
   "metadata": {},
   "outputs": [
    {
     "name": "stdout",
     "output_type": "stream",
     "text": [
      "3\n"
     ]
    }
   ],
   "source": [
    "a = 2\n",
    "a += 1\n",
    "\n",
    "# short form for a = a + 1\n",
    "\n",
    "print(a)"
   ]
  },
  {
   "cell_type": "code",
   "execution_count": 32,
   "id": "1ca37ce0-2021-487d-9373-68e14d03bc77",
   "metadata": {},
   "outputs": [
    {
     "name": "stdout",
     "output_type": "stream",
     "text": [
      "1\n"
     ]
    }
   ],
   "source": [
    "a = 2\n",
    "a -= 1\n",
    "\n",
    "# short form for a = a - 1\n",
    "\n",
    "print(a)"
   ]
  },
  {
   "cell_type": "code",
   "execution_count": null,
   "id": "4b25fe6e-da99-49c6-b74f-51254b227535",
   "metadata": {},
   "outputs": [],
   "source": [
    " # comparison operators is to compare"
   ]
  },
  {
   "cell_type": "code",
   "execution_count": 33,
   "id": "03324e67-e119-43a8-9fe3-93fbab42bc0c",
   "metadata": {},
   "outputs": [
    {
     "data": {
      "text/plain": [
       "True"
      ]
     },
     "execution_count": 33,
     "metadata": {},
     "output_type": "execute_result"
    }
   ],
   "source": [
    "\"Rajiv\" == \"Rajiv\""
   ]
  },
  {
   "cell_type": "code",
   "execution_count": 34,
   "id": "2a15aa82-0e98-4c5d-acf7-bb80e1ff4701",
   "metadata": {},
   "outputs": [
    {
     "data": {
      "text/plain": [
       "False"
      ]
     },
     "execution_count": 34,
     "metadata": {},
     "output_type": "execute_result"
    }
   ],
   "source": [
    "\"rajiv\" == \"Rajiv\""
   ]
  },
  {
   "cell_type": "code",
   "execution_count": 35,
   "id": "e6def2f7-8576-47ec-9dd4-b59312f98cf7",
   "metadata": {},
   "outputs": [
    {
     "data": {
      "text/plain": [
       "False"
      ]
     },
     "execution_count": 35,
     "metadata": {},
     "output_type": "execute_result"
    }
   ],
   "source": [
    "4 == 5"
   ]
  },
  {
   "cell_type": "code",
   "execution_count": 36,
   "id": "553e42ba-9d52-48a7-b6a8-9b5997c32fb6",
   "metadata": {},
   "outputs": [
    {
     "data": {
      "text/plain": [
       "True"
      ]
     },
     "execution_count": 36,
     "metadata": {},
     "output_type": "execute_result"
    }
   ],
   "source": [
    "\"rajiv\" != \"Rajiv\""
   ]
  },
  {
   "cell_type": "code",
   "execution_count": 37,
   "id": "7d0dcbdf-41d9-4722-93ad-fe6eaeb80de5",
   "metadata": {},
   "outputs": [
    {
     "data": {
      "text/plain": [
       "True"
      ]
     },
     "execution_count": 37,
     "metadata": {},
     "output_type": "execute_result"
    }
   ],
   "source": [
    "4 != 5"
   ]
  },
  {
   "cell_type": "code",
   "execution_count": 38,
   "id": "bd407ca3-461a-4d18-8d2f-c33c19cd03de",
   "metadata": {},
   "outputs": [
    {
     "data": {
      "text/plain": [
       "True"
      ]
     },
     "execution_count": 38,
     "metadata": {},
     "output_type": "execute_result"
    }
   ],
   "source": [
    "4 < 5"
   ]
  },
  {
   "cell_type": "code",
   "execution_count": 39,
   "id": "75606bd8-980c-406c-8205-a75a994b6a2c",
   "metadata": {},
   "outputs": [
    {
     "data": {
      "text/plain": [
       "False"
      ]
     },
     "execution_count": 39,
     "metadata": {},
     "output_type": "execute_result"
    }
   ],
   "source": [
    "4 > 5"
   ]
  },
  {
   "cell_type": "code",
   "execution_count": 40,
   "id": "3dec3f1f-4ed3-4d89-b555-a1ad051a321d",
   "metadata": {},
   "outputs": [
    {
     "data": {
      "text/plain": [
       "True"
      ]
     },
     "execution_count": 40,
     "metadata": {},
     "output_type": "execute_result"
    }
   ],
   "source": [
    "5 <= 5"
   ]
  },
  {
   "cell_type": "code",
   "execution_count": 41,
   "id": "b01bf004-e8d0-4ded-bcb2-0177fda9193a",
   "metadata": {},
   "outputs": [
    {
     "data": {
      "text/plain": [
       "True"
      ]
     },
     "execution_count": 41,
     "metadata": {},
     "output_type": "execute_result"
    }
   ],
   "source": [
    "5 >= 5"
   ]
  },
  {
   "cell_type": "code",
   "execution_count": 42,
   "id": "402f95c9-b7da-4197-ac79-1ab84a0fc237",
   "metadata": {},
   "outputs": [
    {
     "data": {
      "text/plain": [
       "True"
      ]
     },
     "execution_count": 42,
     "metadata": {},
     "output_type": "execute_result"
    }
   ],
   "source": [
    "6 >= 5"
   ]
  },
  {
   "cell_type": "code",
   "execution_count": 43,
   "id": "d84a3079-649f-4576-8098-a2e7df3d9517",
   "metadata": {},
   "outputs": [
    {
     "data": {
      "text/plain": [
       "True"
      ]
     },
     "execution_count": 43,
     "metadata": {},
     "output_type": "execute_result"
    }
   ],
   "source": [
    "4 <= 5"
   ]
  },
  {
   "cell_type": "code",
   "execution_count": null,
   "id": "a202aa98-ad7f-411b-8979-c57b289ad042",
   "metadata": {},
   "outputs": [],
   "source": [
    "4. Logical Operators\n",
    "AND True when both statements are true otherwise false\n",
    "OR True even when 1 of them is true\n",
    "NOT to make the logic reverse or opposite"
   ]
  },
  {
   "cell_type": "code",
   "execution_count": 46,
   "id": "23b8f043-0961-42d9-9135-7b09946febef",
   "metadata": {},
   "outputs": [
    {
     "data": {
      "text/plain": [
       "False"
      ]
     },
     "execution_count": 46,
     "metadata": {},
     "output_type": "execute_result"
    }
   ],
   "source": [
    "not 6 > 5"
   ]
  },
  {
   "cell_type": "code",
   "execution_count": 47,
   "id": "7573e505-fd9e-446b-be86-8368b90fa8d8",
   "metadata": {},
   "outputs": [
    {
     "data": {
      "text/plain": [
       "False"
      ]
     },
     "execution_count": 47,
     "metadata": {},
     "output_type": "execute_result"
    }
   ],
   "source": [
    "1 > 10 and 2 < 11"
   ]
  },
  {
   "cell_type": "code",
   "execution_count": 48,
   "id": "154e56a1-dc1a-495c-8047-0ed10d93a475",
   "metadata": {},
   "outputs": [
    {
     "data": {
      "text/plain": [
       "True"
      ]
     },
     "execution_count": 48,
     "metadata": {},
     "output_type": "execute_result"
    }
   ],
   "source": [
    "11 > 10 and 2 < 11"
   ]
  },
  {
   "cell_type": "code",
   "execution_count": 49,
   "id": "2f2f7472-fe9b-4d62-afb1-0edcb64254f7",
   "metadata": {},
   "outputs": [
    {
     "data": {
      "text/plain": [
       "True"
      ]
     },
     "execution_count": 49,
     "metadata": {},
     "output_type": "execute_result"
    }
   ],
   "source": [
    "1 > 10 or 2 < 11"
   ]
  },
  {
   "cell_type": "code",
   "execution_count": null,
   "id": "07aac771-3267-43e6-a32f-9a9fca0d3d89",
   "metadata": {},
   "outputs": [],
   "source": [
    "5. Membership Operators\n",
    "in, not in"
   ]
  },
  {
   "cell_type": "code",
   "execution_count": 50,
   "id": "65a147ca-482b-4540-ad4b-775e7512c731",
   "metadata": {},
   "outputs": [
    {
     "data": {
      "text/plain": [
       "True"
      ]
     },
     "execution_count": 50,
     "metadata": {},
     "output_type": "execute_result"
    }
   ],
   "source": [
    "list_of_stuff = [\"Rajiv\", \"Kapoor\", 34, 100]\n",
    "\n",
    "34 in list_of_stuff"
   ]
  },
  {
   "cell_type": "code",
   "execution_count": 51,
   "id": "b81957cc-5644-4431-a416-ce2d58e2e84d",
   "metadata": {},
   "outputs": [
    {
     "data": {
      "text/plain": [
       "False"
      ]
     },
     "execution_count": 51,
     "metadata": {},
     "output_type": "execute_result"
    }
   ],
   "source": [
    "34.34 in list_of_stuff"
   ]
  },
  {
   "cell_type": "code",
   "execution_count": 52,
   "id": "09ddb655-7c85-4484-967f-c09357e31eeb",
   "metadata": {},
   "outputs": [
    {
     "data": {
      "text/plain": [
       "True"
      ]
     },
     "execution_count": 52,
     "metadata": {},
     "output_type": "execute_result"
    }
   ],
   "source": [
    "34.34 not in list_of_stuff"
   ]
  },
  {
   "cell_type": "code",
   "execution_count": 53,
   "id": "cda9f7bb-55cd-412b-b738-11599aacb80d",
   "metadata": {},
   "outputs": [
    {
     "data": {
      "text/plain": [
       "True"
      ]
     },
     "execution_count": 53,
     "metadata": {},
     "output_type": "execute_result"
    }
   ],
   "source": [
    "\"Rajiv\" in list_of_stuff"
   ]
  },
  {
   "cell_type": "code",
   "execution_count": 54,
   "id": "f63adda2-d791-41d5-b0f2-4f212ba5d3e2",
   "metadata": {},
   "outputs": [
    {
     "data": {
      "text/plain": [
       "True"
      ]
     },
     "execution_count": 54,
     "metadata": {},
     "output_type": "execute_result"
    }
   ],
   "source": [
    "\"a\" in \"Rajiv\""
   ]
  },
  {
   "cell_type": "code",
   "execution_count": 58,
   "id": "145c7af4-048e-4acf-9d94-497037f603e7",
   "metadata": {},
   "outputs": [
    {
     "name": "stdin",
     "output_type": "stream",
     "text": [
      "Write your name Shashank\n",
      "Your age 35\n"
     ]
    },
    {
     "name": "stdout",
     "output_type": "stream",
     "text": [
      "My name is Shashank and my age is  35\n"
     ]
    }
   ],
   "source": [
    "name = input(\"Write your name\")\n",
    "\n",
    "age = input('Your age')\n",
    "\n",
    "print('My name is', name, \"and my age is \", age)"
   ]
  },
  {
   "cell_type": "code",
   "execution_count": 59,
   "id": "2f15052a-847f-4fc5-8d14-ff7fe1ae9e07",
   "metadata": {},
   "outputs": [
    {
     "name": "stdin",
     "output_type": "stream",
     "text": [
      "Write your name Victory\n",
      "Your age 100\n"
     ]
    },
    {
     "name": "stdout",
     "output_type": "stream",
     "text": [
      "My name is Victory and my age is  100\n"
     ]
    }
   ],
   "source": [
    "name = input(\"Write your name\")\n",
    "\n",
    "age = input('Your age')\n",
    "\n",
    "print('My name is', name, \"and my age is \", age)"
   ]
  },
  {
   "cell_type": "code",
   "execution_count": null,
   "id": "324f6b36-7709-40f1-8141-5ea63f20f350",
   "metadata": {},
   "outputs": [],
   "source": []
  }
 ],
 "metadata": {
  "kernelspec": {
   "display_name": "Python 3 (ipykernel)",
   "language": "python",
   "name": "python3"
  },
  "language_info": {
   "codemirror_mode": {
    "name": "ipython",
    "version": 3
   },
   "file_extension": ".py",
   "mimetype": "text/x-python",
   "name": "python",
   "nbconvert_exporter": "python",
   "pygments_lexer": "ipython3",
   "version": "3.9.7"
  }
 },
 "nbformat": 4,
 "nbformat_minor": 5
}
