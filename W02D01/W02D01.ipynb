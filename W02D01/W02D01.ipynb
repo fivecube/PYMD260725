{
 "cells": [
  {
   "cell_type": "code",
   "execution_count": null,
   "id": "61551819-0fd8-4a6e-aeb6-75af36c95bce",
   "metadata": {},
   "outputs": [],
   "source": [
    "# Dictionary, Tuple, and Set we will take after some time.\n",
    "# Basic string operations\n",
    "# Conditional statements (if, elif, else)\n",
    "# Loops (for, while)\n",
    "# Break and continue statements\n",
    "# Function definition and calling\n",
    "# Parameters and return values\n",
    "# Lambda functions\n",
    "# Scope and namespaces"
   ]
  },
  {
   "cell_type": "code",
   "execution_count": null,
   "id": "5b8f1bba-db59-44a2-96d8-0a1caaf514a2",
   "metadata": {},
   "outputs": [],
   "source": [
    "# Conditional statements (if, elif, else)"
   ]
  },
  {
   "cell_type": "code",
   "execution_count": null,
   "id": "7760f34d-4fca-45a5-929f-158af3c96ae6",
   "metadata": {},
   "outputs": [],
   "source": [
    "x = 40\n",
    "\n",
    "if x == 40:\n",
    "    sdjfljsdlf\n",
    "    sdjfklsjdf\n",
    "    sdfjklsdfj\n",
    "\n",
    "sdfjlksjdfl\n",
    "sdfkljsdkfl\n",
    "sdklsjdfldjsf"
   ]
  },
  {
   "cell_type": "code",
   "execution_count": null,
   "id": "52bd3509-cbf0-4c82-bba3-fa156f7ec489",
   "metadata": {},
   "outputs": [],
   "source": [
    "# x = input('Give me a number')\n",
    "\n",
    "# x is always going to be a string becuase input always results in a stirng.\n",
    "\n",
    "# if you want to convert it into integer and if it can be for example \"40\" can become 40"
   ]
  },
  {
   "cell_type": "code",
   "execution_count": 18,
   "id": "a647d3cc-15b3-49cc-8560-1c5907405cf3",
   "metadata": {},
   "outputs": [
    {
     "name": "stdin",
     "output_type": "stream",
     "text": [
      "Give me a fruit name mango\n"
     ]
    },
    {
     "name": "stdout",
     "output_type": "stream",
     "text": [
      "I am happy to see that we have mango with us!\n"
     ]
    }
   ],
   "source": [
    "x = input('Give me a fruit name')\n",
    "\n",
    "# input always give a string\n",
    "\n",
    "if x == \"mango\":\n",
    "    print('I am happy to see that we have', x, 'with us!')\n",
    "else:\n",
    "    print('This fruit does not make sense', x)"
   ]
  },
  {
   "cell_type": "code",
   "execution_count": 15,
   "id": "29be07dd-9fdb-4e81-ae14-a1759b09aaf5",
   "metadata": {},
   "outputs": [
    {
     "data": {
      "text/plain": [
       "False"
      ]
     },
     "execution_count": 15,
     "metadata": {},
     "output_type": "execute_result"
    }
   ],
   "source": [
    "x = 40\n",
    "x == \"40\""
   ]
  },
  {
   "cell_type": "code",
   "execution_count": 21,
   "id": "784fdbb6-8438-4b54-b57a-7a45f0fe826d",
   "metadata": {},
   "outputs": [
    {
     "name": "stdout",
     "output_type": "stream",
     "text": [
      "We have mangoes\n",
      "I love mangoes\n"
     ]
    }
   ],
   "source": [
    "x = [\"mango\", \"apple\", \"banana\", \"kiwi\"]\n",
    "\n",
    "if \"mango\" in x:\n",
    "    print(\"We have mangoes\")\n",
    "    print(\"I love mangoes\")"
   ]
  },
  {
   "cell_type": "code",
   "execution_count": 20,
   "id": "913eb602-68db-447a-8041-b7ce56107b33",
   "metadata": {},
   "outputs": [
    {
     "data": {
      "text/plain": [
       "True"
      ]
     },
     "execution_count": 20,
     "metadata": {},
     "output_type": "execute_result"
    }
   ],
   "source": [
    "\"mango\" in x"
   ]
  },
  {
   "cell_type": "code",
   "execution_count": 5,
   "id": "0a7928a7-428d-40c2-933e-67e0b5fbc303",
   "metadata": {},
   "outputs": [
    {
     "ename": "SyntaxError",
     "evalue": "invalid syntax (1776209255.py, line 3)",
     "output_type": "error",
     "traceback": [
      "\u001b[0;36m  Cell \u001b[0;32mIn[5], line 3\u001b[0;36m\u001b[0m\n\u001b[0;31m    if \"mango\" = x:\u001b[0m\n\u001b[0m               ^\u001b[0m\n\u001b[0;31mSyntaxError\u001b[0m\u001b[0;31m:\u001b[0m invalid syntax\n"
     ]
    }
   ],
   "source": [
    "x = [\"mango\", \"apple\", \"banana\", \"kiwi\"]\n",
    "\n",
    "if \"mango\" = x:\n",
    "    print(\"We have mangoes\")"
   ]
  },
  {
   "cell_type": "code",
   "execution_count": 6,
   "id": "4a228ca7-4520-44a6-9461-09cb864550bc",
   "metadata": {},
   "outputs": [
    {
     "ename": "SyntaxError",
     "evalue": "invalid syntax (1174664188.py, line 3)",
     "output_type": "error",
     "traceback": [
      "\u001b[0;36m  Cell \u001b[0;32mIn[6], line 3\u001b[0;36m\u001b[0m\n\u001b[0;31m    if x=\"mango\":\u001b[0m\n\u001b[0m        ^\u001b[0m\n\u001b[0;31mSyntaxError\u001b[0m\u001b[0;31m:\u001b[0m invalid syntax\n"
     ]
    }
   ],
   "source": [
    "x = [\"mango\", \"apple\", \"banana\", \"kiwi\"]\n",
    "\n",
    "if x=\"mango\":\n",
    "    print(\"We have mangoes\")"
   ]
  },
  {
   "cell_type": "code",
   "execution_count": null,
   "id": "7558dd7a-5dad-479e-9e9d-963d5555e649",
   "metadata": {},
   "outputs": [],
   "source": [
    "# ?elif condition"
   ]
  },
  {
   "cell_type": "code",
   "execution_count": 22,
   "id": "de4d29cf-ed72-4e5e-8e83-86279bbe7b99",
   "metadata": {
    "scrolled": true
   },
   "outputs": [
    {
     "name": "stdout",
     "output_type": "stream",
     "text": [
      "3 is greater than 2\n"
     ]
    },
    {
     "name": "stdin",
     "output_type": "stream",
     "text": [
      "do you have a no? 55\n"
     ]
    },
    {
     "name": "stdout",
     "output_type": "stream",
     "text": [
      "oh I see 55\n"
     ]
    }
   ],
   "source": [
    "if 3 > 5:\n",
    "    print('3 is greater than 5')\n",
    "    x = input('give me a number')\n",
    "    print('happy to see', x)\n",
    "elif 3 > 2:\n",
    "    print('3 is greater than 2')\n",
    "    x = input('do you have a no?')\n",
    "    print('oh I see', x)"
   ]
  },
  {
   "cell_type": "code",
   "execution_count": 23,
   "id": "467849eb-8562-4ca4-aa70-b2cba9904c28",
   "metadata": {},
   "outputs": [
    {
     "name": "stdout",
     "output_type": "stream",
     "text": [
      "we have apples\n"
     ]
    }
   ],
   "source": [
    "list_of_fruits = ['mango', 'apple', 'banana']\n",
    "\n",
    "if \"apple\" in list_of_fruits:\n",
    "    print(\"we have apples\")\n",
    "elif \"mango\" in list_of_fruits:\n",
    "    print(\"we have mangoes\")\n",
    "elif \"kiwi\" in list_of_fruits:\n",
    "    print(\"we have kiwis\")"
   ]
  },
  {
   "cell_type": "code",
   "execution_count": 25,
   "id": "d5d1ad25-37f7-46a5-ae25-b27e2c14f8a9",
   "metadata": {},
   "outputs": [
    {
     "name": "stdout",
     "output_type": "stream",
     "text": [
      "we have mangoes\n"
     ]
    }
   ],
   "source": [
    "list_of_fruits = ['mango', 'apple', 'banana']\n",
    "\n",
    "if \"watermelon\" in list_of_fruits:\n",
    "    print(\"we have apples\")\n",
    "elif \"mango\" in list_of_fruits:\n",
    "    print(\"we have mangoes\")\n",
    "elif \"kiwi\" in list_of_fruits:\n",
    "    print(\"we have kiwis\")\n",
    "else:\n",
    "    print(\"we don't have any of watermelon, mango, and kiwi\")"
   ]
  },
  {
   "cell_type": "code",
   "execution_count": 26,
   "id": "4a9603ba-b846-4ba8-851e-799d817e3fb8",
   "metadata": {},
   "outputs": [
    {
     "name": "stdout",
     "output_type": "stream",
     "text": [
      "we don't have any of watermelon, orange, and kiwi\n"
     ]
    }
   ],
   "source": [
    "list_of_fruits = ['mango', 'apple', 'banana']\n",
    "\n",
    "if \"watermelon\" in list_of_fruits:\n",
    "    print(\"we have apples\")\n",
    "elif \"orange\" in list_of_fruits:\n",
    "    print(\"we have mangoes\")\n",
    "elif \"kiwi\" in list_of_fruits:\n",
    "    print(\"we have kiwis\")\n",
    "else:\n",
    "    print(\"we don't have any of watermelon, orange, and kiwi\")"
   ]
  },
  {
   "cell_type": "code",
   "execution_count": 12,
   "id": "55911220-479d-4486-bfdf-52627361ea34",
   "metadata": {},
   "outputs": [
    {
     "name": "stdout",
     "output_type": "stream",
     "text": [
      "we have banana\n"
     ]
    }
   ],
   "source": [
    "x = [\"mango\", \"apple\", \"banana\", \"kiwi\"]\n",
    "\n",
    "\n",
    "if \"orange\" in x:\n",
    "    print('we have orange')\n",
    "elif \"watermelon\" in x:\n",
    "    print('we have watermelon')\n",
    "elif \"banana\" in x:\n",
    "    print('we have banana')\n",
    "else:\n",
    "    print(\"we don't have orange, watermelon, and banana\")"
   ]
  },
  {
   "cell_type": "code",
   "execution_count": 1,
   "id": "e7a12a94-3074-43d9-994f-a78da7bd6199",
   "metadata": {},
   "outputs": [
    {
     "name": "stdout",
     "output_type": "stream",
     "text": [
      "mango\n",
      "happy to see mango\n",
      "apple\n",
      "happy to see apple\n",
      "banana\n",
      "happy to see banana\n",
      "kiwi\n",
      "happy to see kiwi\n"
     ]
    }
   ],
   "source": [
    "# Loops (for, while)\n",
    "\n",
    "x = [\"mango\", \"apple\", \"banana\", \"kiwi\"]\n",
    "\n",
    "for fruit in x:\n",
    "    print(fruit)\n",
    "    print('happy to see', fruit)"
   ]
  },
  {
   "cell_type": "code",
   "execution_count": 2,
   "id": "3d167bd2-3355-455b-b48d-6e3838d9abfc",
   "metadata": {},
   "outputs": [
    {
     "name": "stdout",
     "output_type": "stream",
     "text": [
      "apple\n",
      "230\n",
      "mango\n"
     ]
    }
   ],
   "source": [
    "x = [\"apple\", 230, \"mango\"]\n",
    "\n",
    "y = [\"banana\", 300]\n",
    "\n",
    "for i in x:\n",
    "    print(i)"
   ]
  },
  {
   "cell_type": "code",
   "execution_count": 17,
   "id": "9a8a7a44-d2c4-427a-b0cb-9a596fccafbe",
   "metadata": {},
   "outputs": [
    {
     "data": {
      "text/plain": [
       "True"
      ]
     },
     "execution_count": 17,
     "metadata": {},
     "output_type": "execute_result"
    }
   ],
   "source": [
    "num = 41.40\n",
    "not isinstance(num, int)"
   ]
  },
  {
   "cell_type": "code",
   "execution_count": 18,
   "id": "68d8ab31-092d-48ae-a850-a04b06188113",
   "metadata": {},
   "outputs": [
    {
     "data": {
      "text/plain": [
       "True"
      ]
     },
     "execution_count": 18,
     "metadata": {},
     "output_type": "execute_result"
    }
   ],
   "source": [
    "num = 42.20\n",
    "isinstance(num, float)"
   ]
  },
  {
   "cell_type": "code",
   "execution_count": 21,
   "id": "7b9ffcc9-ccb2-43d3-9f8e-5eb3d3fd2d61",
   "metadata": {},
   "outputs": [
    {
     "data": {
      "text/plain": [
       "True"
      ]
     },
     "execution_count": 21,
     "metadata": {},
     "output_type": "execute_result"
    }
   ],
   "source": [
    "num = 40.423\n",
    "\n",
    "# type(num) == float\n",
    "\n",
    "# isinstance(num, float)"
   ]
  },
  {
   "cell_type": "code",
   "execution_count": 23,
   "id": "5b528944-c2f4-4096-a224-9f5c673db843",
   "metadata": {},
   "outputs": [
    {
     "name": "stdout",
     "output_type": "stream",
     "text": [
      "Odd No 23\n",
      "Even No 42\n",
      "Even No 24\n",
      "Odd No 33\n",
      "Float can not be classified in odd/even 423.23\n"
     ]
    }
   ],
   "source": [
    "x = [23, 42, 24, 33, 423.230]\n",
    "\n",
    "for num in x:\n",
    "    if type(num) == float:\n",
    "        print('Float can not be classified in odd/even', num)\n",
    "    elif num%2==0:\n",
    "        print('Even No', num)\n",
    "    else:\n",
    "        print('Odd No', num)"
   ]
  },
  {
   "cell_type": "code",
   "execution_count": 9,
   "id": "e0f23122-620f-47f8-b68c-c669efb63907",
   "metadata": {},
   "outputs": [
    {
     "data": {
      "text/plain": [
       "False"
      ]
     },
     "execution_count": 9,
     "metadata": {},
     "output_type": "execute_result"
    }
   ],
   "source": [
    "num = 41.43\n",
    "num%2 == 0"
   ]
  },
  {
   "cell_type": "code",
   "execution_count": null,
   "id": "6f94b471-e815-4fea-8c4e-f0a326806d50",
   "metadata": {},
   "outputs": [],
   "source": [
    "# while loop runs continusly untill there is a break statement or the while condition does not satisfy any more.\n"
   ]
  },
  {
   "cell_type": "code",
   "execution_count": 29,
   "id": "d8a17898-72ec-4276-a41e-9d5d8321a4f0",
   "metadata": {},
   "outputs": [
    {
     "name": "stderr",
     "output_type": "stream",
     "text": [
      "IOPub data rate exceeded.\n",
      "The Jupyter server will temporarily stop sending output\n",
      "to the client in order to avoid crashing it.\n",
      "To change this limit, set the config variable\n",
      "`--ServerApp.iopub_data_rate_limit`.\n",
      "\n",
      "Current values:\n",
      "ServerApp.iopub_data_rate_limit=1000000.0 (bytes/sec)\n",
      "ServerApp.rate_limit_window=3.0 (secs)\n",
      "\n"
     ]
    },
    {
     "name": "stdout",
     "output_type": "stream",
     "text": [
      "\n",
      "I will run indefinitely\n",
      "I will run indefinitely\n",
      "I will run indefinitely\n",
      "I will run indefinitely\n",
      "I will run indefinitely\n",
      "I will run indefinitely\n",
      "I will run indefinitely\n",
      "I will run indefinitely\n",
      "I will run indefinitely\n",
      "I will run indefinitely\n",
      "I will run indefinitely\n",
      "I will run indefinitely\n",
      "I will run indefinitely\n",
      "I will run indefinitely\n",
      "I will run indefinitely\n",
      "I will run indefinitely\n",
      "I will run indefinitely\n",
      "I will run indefinitely\n",
      "I will run indefinitely\n",
      "I will run indefinitely\n",
      "I will run indefinitely\n",
      "I will run indefinitely\n",
      "I will run indefinitely\n",
      "I will run indefinitely\n",
      "I will run indefinitely\n",
      "I will run indefinitely\n",
      "I will run indefinitely\n",
      "I will run indefinitely\n",
      "I will run indefinitely\n",
      "I will run indefinitely\n",
      "I will run indefinitely\n",
      "I will run indefinitely\n",
      "I will run indefinitely\n",
      "I will run indefinitely\n",
      "I will run indefinitely\n",
      "I will run indefinitely\n",
      "I will run indefinitely\n",
      "I will run indefinitely\n",
      "I will run indefinitely\n",
      "I will run indefinitely\n",
      "I will run indefinitely\n",
      "I will run indefinitely\n",
      "I will run indefinitely\n",
      "I will run indefinitely\n",
      "I will run indefinitely\n",
      "I will run indefinitely\n",
      "I will run indefinitely\n",
      "I will run indefinitely\n",
      "I will run indefinitely\n",
      "I will run indefinitely\n",
      "I will run indefinitely\n",
      "I will run indefinitely\n",
      "I will run indefinitely\n",
      "I will run indefinitely\n",
      "I will run indefinitely\n",
      "I will run indefinitely\n",
      "I will run indefinitely\n",
      "I will run indefinitely\n",
      "I will run indefinitely\n",
      "I will run indefinitely\n",
      "I will run indefinitely\n",
      "I will run indefinitely\n",
      "I will run indefinitely\n",
      "I will run indefinitely\n",
      "I will run indefinitely\n",
      "I will run indefinitely\n",
      "I will run indefinitely\n",
      "I will run indefinitely\n",
      "I will run indefinitely\n",
      "I will run indefinitely\n",
      "I will run indefinitely\n",
      "I will run indefinitely\n",
      "I will run indefinitely\n",
      "I will run indefinitely\n",
      "I will run indefinitely\n",
      "I will run indefinitely\n",
      "I will run indefinitely\n",
      "I will run indefinitely\n",
      "I will run indefinitely\n",
      "I will run indefinitely\n",
      "I will run indefinitely\n",
      "I will run indefinitely\n",
      "I will run indefinitely\n",
      "I will run indefinitely\n",
      "I will run indefinitely\n",
      "I will run indefinitely\n",
      "I will run indefinitely\n",
      "I will run indefinitely\n",
      "I will run indefinitely\n",
      "I will run indefinitely\n",
      "I will run indefinitely\n",
      "I will run indefinitely\n",
      "I will run indefinitely\n",
      "I will run indefinitely\n",
      "I will run indefinitely\n",
      "I will run indefinitely\n",
      "I will run indefinitely\n",
      "I will run indefinitely\n",
      "I will run indefinitely\n",
      "I will run indefinitely\n",
      "I will run indefinitely\n",
      "I will run indefinitely\n",
      "I will run indefinitely\n",
      "I will run indefinitely\n",
      "I will run indefinitely\n",
      "I will run indefinitely\n",
      "I will run indefinitely\n",
      "I will run indefinitely\n",
      "I will run indefinitely\n",
      "I will run indefinitely\n",
      "I will run indefinitely\n",
      "I will run indefinitely\n",
      "I will run indefinitely\n",
      "I will run indefinitely\n",
      "I will run indefinitely\n",
      "I will run indefinitely\n",
      "I will run indefinitely\n",
      "I will run indefinitely\n",
      "I will run indefinitely\n",
      "I will run indefinitely\n",
      "I will run indefinitely\n",
      "I will run indefinitely\n",
      "I will run indefinitely\n",
      "I will run indefinitely\n",
      "I will run indefinitely\n",
      "I will run indefinitely\n",
      "I will run indefinitely\n",
      "I will run indefinitely\n",
      "I will run indefinitely\n",
      "I will run indefinitely\n",
      "I will run indefinitely\n",
      "I will run indefinitely\n",
      "I will run indefinitely\n",
      "I will run indefinitely\n",
      "I will run indefinitely\n",
      "I will run indefinitely\n",
      "I will run indefinitely\n",
      "I will run indefinitely\n",
      "I will run indefinitely\n",
      "I will run indefinitely\n",
      "I will run indefinitely\n",
      "I will run indefinitely\n",
      "I will run indefinitely\n",
      "I will run indefinitely\n",
      "I will run indefinitely\n",
      "I will run indefinitely\n",
      "I will run indefinitely\n",
      "I will run indefinitely\n",
      "I will run indefinitely\n",
      "I will run indefinitely\n",
      "I will run indefinitely\n",
      "I will run indefinitely\n",
      "I will run indefinitely\n",
      "I will run indefinitely\n",
      "I will run indefinitely\n",
      "I will run indefinitely\n",
      "I will run indefinitely\n",
      "I will run indefinitely\n",
      "I will run indefinitely\n",
      "I will run indefinitely\n",
      "I will run indefinitely\n",
      "I will run indefinitely\n",
      "I will run indefinitely\n",
      "I will run indefinitely\n",
      "I will run indefinitely\n",
      "I will run indefinitely\n",
      "I will run indefinitely\n",
      "I will run indefinitely\n",
      "I will run indefinitely\n",
      "I will run indefinitely\n",
      "I will run indefinitely\n",
      "I will run indefinitely\n",
      "I will run indefinitely\n",
      "I will run indefinitely\n",
      "I will run indefinitely\n",
      "I will run indefinitely\n",
      "I will run indefinitely\n",
      "I will run indefinitely\n",
      "I will run indefinitely\n",
      "I will run indefinitely\n",
      "I will run indefinitely\n",
      "I will run indefinitely\n",
      "I will run indefinitely\n",
      "I will run indefinitely\n",
      "I will run indefinitely\n",
      "I will run indefinitely\n",
      "I will run indefinitely\n",
      "I will run indefinitely\n",
      "I will run indefinitely\n",
      "I will run indefinitely\n",
      "I will run indefinitely\n",
      "I will run indefinitely\n",
      "I will run indefinitely\n",
      "I will run indefinitely\n",
      "I will run indefinitely\n",
      "I will run indefinitely\n",
      "I will run indefinitely\n",
      "I will run indefinitely\n",
      "I will run indefinitely\n",
      "I will run indefinitely\n",
      "I will run indefinitely\n",
      "I will run indefinitely\n",
      "I will run indefinitely\n",
      "I will run indefinitely\n",
      "I will run indefinitely\n",
      "I will run indefinitely\n",
      "I will run indefinitely\n",
      "I will run indefinitely\n",
      "I will run indefinitely\n",
      "I will run indefinitely\n",
      "I will run indefinitely\n",
      "I will run indefinitely\n",
      "I will run indefinitely\n",
      "I will run indefinitely\n",
      "I will run indefinitely\n",
      "I will run indefinitely\n",
      "I will run indefinitely\n",
      "I will run indefinitely\n",
      "I will run indefinitely\n",
      "I will run indefinitely\n",
      "I will run indefinitely\n",
      "I will run indefinitely\n",
      "I will run indefinitely\n",
      "I will run indefinitely\n",
      "I will run indefinitely\n",
      "I will run indefinitely\n",
      "I will run indefinitely\n",
      "I will run indefinitely\n",
      "I will run indefinitely\n",
      "I will run indefinitely\n",
      "I will run indefinitely\n",
      "I will run indefinitely\n",
      "I will run indefinitely\n",
      "I will run indefinitely\n",
      "I will run indefinitely\n",
      "I will run indefinitely"
     ]
    },
    {
     "ename": "KeyboardInterrupt",
     "evalue": "",
     "output_type": "error",
     "traceback": [
      "\u001b[0;31m---------------------------------------------------------------------------\u001b[0m",
      "\u001b[0;31mKeyboardInterrupt\u001b[0m                         Traceback (most recent call last)",
      "Cell \u001b[0;32mIn[29], line 2\u001b[0m\n\u001b[1;32m      1\u001b[0m \u001b[38;5;28;01mwhile\u001b[39;00m \u001b[38;5;28;01mTrue\u001b[39;00m:\n\u001b[0;32m----> 2\u001b[0m     \u001b[38;5;28;43mprint\u001b[39;49m\u001b[43m(\u001b[49m\u001b[38;5;124;43m\"\u001b[39;49m\u001b[38;5;124;43mI will run indefinitely\u001b[39;49m\u001b[38;5;124;43m\"\u001b[39;49m\u001b[43m)\u001b[49m\n",
      "File \u001b[0;32m/Library/Frameworks/Python.framework/Versions/3.9/lib/python3.9/site-packages/ipykernel/iostream.py:681\u001b[0m, in \u001b[0;36mOutStream.write\u001b[0;34m(self, string)\u001b[0m\n\u001b[1;32m    678\u001b[0m     msg \u001b[38;5;241m=\u001b[39m \u001b[38;5;124m\"\u001b[39m\u001b[38;5;124mI/O operation on closed file\u001b[39m\u001b[38;5;124m\"\u001b[39m\n\u001b[1;32m    679\u001b[0m     \u001b[38;5;28;01mraise\u001b[39;00m \u001b[38;5;167;01mValueError\u001b[39;00m(msg)\n\u001b[0;32m--> 681\u001b[0m is_child \u001b[38;5;241m=\u001b[39m \u001b[38;5;129;01mnot\u001b[39;00m \u001b[38;5;28;43mself\u001b[39;49m\u001b[38;5;241;43m.\u001b[39;49m\u001b[43m_is_master_process\u001b[49m\u001b[43m(\u001b[49m\u001b[43m)\u001b[49m\n\u001b[1;32m    682\u001b[0m \u001b[38;5;66;03m# only touch the buffer in the IO thread to avoid races\u001b[39;00m\n\u001b[1;32m    683\u001b[0m \u001b[38;5;28;01mwith\u001b[39;00m \u001b[38;5;28mself\u001b[39m\u001b[38;5;241m.\u001b[39m_buffer_lock:\n",
      "File \u001b[0;32m/Library/Frameworks/Python.framework/Versions/3.9/lib/python3.9/site-packages/ipykernel/iostream.py:551\u001b[0m, in \u001b[0;36mOutStream._is_master_process\u001b[0;34m(self)\u001b[0m\n\u001b[1;32m    550\u001b[0m \u001b[38;5;28;01mdef\u001b[39;00m\u001b[38;5;250m \u001b[39m\u001b[38;5;21m_is_master_process\u001b[39m(\u001b[38;5;28mself\u001b[39m):\n\u001b[0;32m--> 551\u001b[0m     \u001b[38;5;28;01mreturn\u001b[39;00m \u001b[43mos\u001b[49m\u001b[38;5;241;43m.\u001b[39;49m\u001b[43mgetpid\u001b[49m\u001b[43m(\u001b[49m\u001b[43m)\u001b[49m\u001b[43m \u001b[49m\u001b[38;5;241;43m==\u001b[39;49m\u001b[43m \u001b[49m\u001b[38;5;28;43mself\u001b[39;49m\u001b[38;5;241;43m.\u001b[39;49m\u001b[43m_master_pid\u001b[49m\n",
      "\u001b[0;31mKeyboardInterrupt\u001b[0m: "
     ]
    }
   ],
   "source": [
    "while True:\n",
    "    print(\"I will run indefinitely\")"
   ]
  },
  {
   "cell_type": "code",
   "execution_count": 33,
   "id": "e49cb50c-43b0-4cfe-a98c-4822b7afe709",
   "metadata": {},
   "outputs": [
    {
     "name": "stdout",
     "output_type": "stream",
     "text": [
      "mango\n",
      "apple\n",
      "banana\n",
      "kiwi\n"
     ]
    },
    {
     "ename": "IndexError",
     "evalue": "list index out of range",
     "output_type": "error",
     "traceback": [
      "\u001b[0;31m---------------------------------------------------------------------------\u001b[0m",
      "\u001b[0;31mIndexError\u001b[0m                                Traceback (most recent call last)",
      "Cell \u001b[0;32mIn[33], line 5\u001b[0m\n\u001b[1;32m      3\u001b[0m i \u001b[38;5;241m=\u001b[39m \u001b[38;5;241m0\u001b[39m\n\u001b[1;32m      4\u001b[0m \u001b[38;5;28;01mwhile\u001b[39;00m \u001b[38;5;28;01mTrue\u001b[39;00m:\n\u001b[0;32m----> 5\u001b[0m     \u001b[38;5;28mprint\u001b[39m(\u001b[43mx\u001b[49m\u001b[43m[\u001b[49m\u001b[43mi\u001b[49m\u001b[43m]\u001b[49m)\n\u001b[1;32m      6\u001b[0m     i \u001b[38;5;241m=\u001b[39m i \u001b[38;5;241m+\u001b[39m \u001b[38;5;241m1\u001b[39m\n",
      "\u001b[0;31mIndexError\u001b[0m: list index out of range"
     ]
    }
   ],
   "source": [
    "x = [\"mango\", \"apple\", \"banana\", \"kiwi\"]\n",
    "\n",
    "i = 0\n",
    "while True:\n",
    "    print(x[i])\n",
    "    i = i + 1"
   ]
  },
  {
   "cell_type": "code",
   "execution_count": 36,
   "id": "e60e46f7-b582-4805-9dd8-8e3e3b874491",
   "metadata": {},
   "outputs": [
    {
     "name": "stdout",
     "output_type": "stream",
     "text": [
      "mango\n",
      "apple\n",
      "banana\n",
      "final i value will be 2\n"
     ]
    }
   ],
   "source": [
    "x = [\"mango\", \"apple\", \"banana\", \"kiwi\"]\n",
    "\n",
    "i = 0\n",
    "while True:\n",
    "    print(x[i])\n",
    "    if x[i] == \"banana\":\n",
    "        break\n",
    "    i = i + 1\n",
    "\n",
    "print('final i value will be', i)"
   ]
  },
  {
   "cell_type": "code",
   "execution_count": 38,
   "id": "0e616ee8-ed6c-47e6-9da7-06db720ee6f8",
   "metadata": {},
   "outputs": [
    {
     "data": {
      "text/plain": [
       "[4, 5, 6, 7, 8, 9, 10, 11]"
      ]
     },
     "execution_count": 38,
     "metadata": {},
     "output_type": "execute_result"
    }
   ],
   "source": [
    "# range fun\n",
    "\n",
    "list(range(4, 12))\n",
    "\n",
    "# end_part is not inclusive\n",
    "# start from 4 and go till 12-1"
   ]
  },
  {
   "cell_type": "code",
   "execution_count": 39,
   "id": "739993cd-c32f-438b-bfef-6c7f67b47e67",
   "metadata": {},
   "outputs": [
    {
     "name": "stdout",
     "output_type": "stream",
     "text": [
      "4\n",
      "5\n",
      "6\n",
      "7\n",
      "8\n"
     ]
    }
   ],
   "source": [
    "list_of_number = [4, 5, 6, 7, 8, 9, 10, 11]\n",
    "\n",
    "index = 0\n",
    "item = list_of_number[index]\n",
    "\n",
    "\n",
    "while item < 9:\n",
    "    print(item)\n",
    "    index = index + 1\n",
    "    item = list_of_number[index]"
   ]
  },
  {
   "cell_type": "code",
   "execution_count": 40,
   "id": "75fa5c83-c756-4b92-a986-f095d39a41d9",
   "metadata": {},
   "outputs": [],
   "source": [
    "while False:\n",
    "    print('I will never run')\n",
    "\n",
    "while Boolean(either you give boolean directly or you create it via condition by using comparison, membership, etc):\n",
    "    code block line 1\n",
    "    code block line 2\n",
    "\n",
    "check the boolean\n",
    "if true run the code block, if false get out of the loop.\n",
    "when the code block is ran, go back to the boolean and repeat."
   ]
  },
  {
   "cell_type": "code",
   "execution_count": 28,
   "id": "14639671-4708-4511-a705-817b889c151c",
   "metadata": {},
   "outputs": [
    {
     "name": "stdout",
     "output_type": "stream",
     "text": [
      "kiwi\n"
     ]
    },
    {
     "data": {
      "text/plain": [
       "4"
      ]
     },
     "execution_count": 28,
     "metadata": {},
     "output_type": "execute_result"
    }
   ],
   "source": [
    "x = [\"mango\", \"apple\", \"banana\", \"kiwi\"]\n",
    "\n",
    "print(x[3])\n",
    "len(x)\n",
    "# 0 to len-1"
   ]
  },
  {
   "cell_type": "code",
   "execution_count": 31,
   "id": "f186d127-599c-4a9f-a0d1-b7b57a736bad",
   "metadata": {},
   "outputs": [
    {
     "ename": "IndexError",
     "evalue": "list index out of range",
     "output_type": "error",
     "traceback": [
      "\u001b[0;31m---------------------------------------------------------------------------\u001b[0m",
      "\u001b[0;31mIndexError\u001b[0m                                Traceback (most recent call last)",
      "Cell \u001b[0;32mIn[31], line 4\u001b[0m\n\u001b[1;32m      1\u001b[0m x \u001b[38;5;241m=\u001b[39m [\u001b[38;5;124m\"\u001b[39m\u001b[38;5;124mmango\u001b[39m\u001b[38;5;124m\"\u001b[39m, \u001b[38;5;124m\"\u001b[39m\u001b[38;5;124mapple\u001b[39m\u001b[38;5;124m\"\u001b[39m, \u001b[38;5;124m\"\u001b[39m\u001b[38;5;124mbanana\u001b[39m\u001b[38;5;124m\"\u001b[39m, \u001b[38;5;124m\"\u001b[39m\u001b[38;5;124mkiwi\u001b[39m\u001b[38;5;124m\"\u001b[39m]\n\u001b[0;32m----> 4\u001b[0m \u001b[43mx\u001b[49m\u001b[43m[\u001b[49m\u001b[38;5;241;43m4\u001b[39;49m\u001b[43m]\u001b[49m\n",
      "\u001b[0;31mIndexError\u001b[0m: list index out of range"
     ]
    }
   ],
   "source": [
    "x = [\"mango\", \"apple\", \"banana\", \"kiwi\"]\n",
    "\n",
    "\n",
    "x[4]"
   ]
  },
  {
   "cell_type": "code",
   "execution_count": 41,
   "id": "11bd3943-29ad-4a07-b882-b60c0c478732",
   "metadata": {},
   "outputs": [
    {
     "name": "stdout",
     "output_type": "stream",
     "text": [
      "mango\n",
      "apple\n",
      "kiwi\n"
     ]
    }
   ],
   "source": [
    "x = [\"mango\", \"apple\", \"banana\", \"kiwi\"]\n",
    "\n",
    "\n",
    "for fruit in x:\n",
    "    if fruit == \"banana\":\n",
    "        continue\n",
    "    print(fruit)"
   ]
  },
  {
   "cell_type": "code",
   "execution_count": 42,
   "id": "6c61864b-c638-4c6a-95b3-bf4042faea92",
   "metadata": {},
   "outputs": [
    {
     "name": "stdout",
     "output_type": "stream",
     "text": [
      "1\n",
      "3\n",
      "5\n",
      "7\n",
      "9\n",
      "11\n"
     ]
    }
   ],
   "source": [
    "for i in range(1, 12):\n",
    "    if i%2==0:\n",
    "        continue\n",
    "    print(i)"
   ]
  },
  {
   "cell_type": "code",
   "execution_count": null,
   "id": "1123548f-4d98-468d-927d-bd52abb69b3c",
   "metadata": {},
   "outputs": [],
   "source": [
    "# Functions that you have seen so far:-\n",
    "# 1. input function\n",
    "# 2. print function\n",
    "# 3. range function\n",
    "\n",
    "# They are built in functions"
   ]
  },
  {
   "cell_type": "code",
   "execution_count": null,
   "id": "8a895251-d4da-4153-8d00-e694336a5da4",
   "metadata": {},
   "outputs": [],
   "source": [
    "# Custom Function\n",
    "\n",
    "# Why do we want function\n",
    "# you want to run a piece of code again and again.\n",
    "# you create a code block and give a name to that code block, you can call that code block by it's name"
   ]
  },
  {
   "cell_type": "code",
   "execution_count": 43,
   "id": "1c2bb1a9-2669-4e53-8f75-56605f66eb33",
   "metadata": {},
   "outputs": [],
   "source": [
    "def rohan(x):\n",
    "    print('Hi I am rohan', x)"
   ]
  },
  {
   "cell_type": "code",
   "execution_count": 44,
   "id": "6c951d7c-2436-43ec-86b0-2a8fc90a157e",
   "metadata": {},
   "outputs": [
    {
     "name": "stdout",
     "output_type": "stream",
     "text": [
      "Hi I am rohan 400\n"
     ]
    }
   ],
   "source": [
    "rohan(400)"
   ]
  },
  {
   "cell_type": "code",
   "execution_count": 45,
   "id": "7fb62a39-62ed-441e-a9c3-bff84e9f2ce6",
   "metadata": {},
   "outputs": [
    {
     "name": "stdout",
     "output_type": "stream",
     "text": [
      "Hi I am rohan 200\n"
     ]
    }
   ],
   "source": [
    "rohan(200)"
   ]
  },
  {
   "cell_type": "code",
   "execution_count": 46,
   "id": "b84367d5-232c-419b-8083-94a1db9db2eb",
   "metadata": {},
   "outputs": [
    {
     "name": "stdout",
     "output_type": "stream",
     "text": [
      "Hi I am rohan 1\n",
      "Hi I am rohan 2\n",
      "Hi I am rohan 3\n",
      "Hi I am rohan 4\n",
      "Hi I am rohan 5\n",
      "Hi I am rohan 6\n",
      "Hi I am rohan 7\n",
      "Hi I am rohan 8\n",
      "Hi I am rohan 9\n"
     ]
    }
   ],
   "source": [
    "for i in range(1,10):\n",
    "    rohan(i)"
   ]
  },
  {
   "cell_type": "code",
   "execution_count": 47,
   "id": "2e6a5b80-4bfa-44e9-b7df-782f9ba4751b",
   "metadata": {},
   "outputs": [],
   "source": [
    "def remainder_job(x, y):\n",
    "    rem = x%y\n",
    "    print(rem)"
   ]
  },
  {
   "cell_type": "code",
   "execution_count": 48,
   "id": "d86055cc-faeb-433b-b953-c05e49e5d3cf",
   "metadata": {},
   "outputs": [
    {
     "name": "stdout",
     "output_type": "stream",
     "text": [
      "0\n",
      "0\n",
      "1\n",
      "2\n",
      "0\n",
      "4\n",
      "3\n",
      "2\n",
      "1\n"
     ]
    }
   ],
   "source": [
    "x = 10\n",
    "for i in range(1,10):\n",
    "    remainder_job(x, i)"
   ]
  },
  {
   "cell_type": "code",
   "execution_count": 49,
   "id": "a34027b6-3b7e-4089-99fc-34c2609987e5",
   "metadata": {},
   "outputs": [],
   "source": [
    "def sum_2_num(x, y):\n",
    "    print(x+y)"
   ]
  },
  {
   "cell_type": "code",
   "execution_count": 50,
   "id": "cc7cdcc8-8a18-4b53-8a02-12357b0bd41b",
   "metadata": {},
   "outputs": [
    {
     "name": "stdout",
     "output_type": "stream",
     "text": [
      "11\n",
      "12\n",
      "13\n",
      "14\n",
      "15\n",
      "16\n",
      "17\n",
      "18\n",
      "19\n"
     ]
    }
   ],
   "source": [
    "x = 10\n",
    "for i in range(1,10):\n",
    "    sum_2_num(x, i)"
   ]
  },
  {
   "cell_type": "code",
   "execution_count": null,
   "id": "aae35745-d094-43ae-90f9-96dd8bb7252b",
   "metadata": {},
   "outputs": [],
   "source": []
  }
 ],
 "metadata": {
  "kernelspec": {
   "display_name": "Python 3 (ipykernel)",
   "language": "python",
   "name": "python3"
  },
  "language_info": {
   "codemirror_mode": {
    "name": "ipython",
    "version": 3
   },
   "file_extension": ".py",
   "mimetype": "text/x-python",
   "name": "python",
   "nbconvert_exporter": "python",
   "pygments_lexer": "ipython3",
   "version": "3.9.7"
  }
 },
 "nbformat": 4,
 "nbformat_minor": 5
}
