{
 "cells": [
  {
   "cell_type": "code",
   "execution_count": 3,
   "id": "e4fb249c-b1c6-4367-b7f3-80407b9bc288",
   "metadata": {},
   "outputs": [
    {
     "name": "stdout",
     "output_type": "stream",
     "text": [
      "[True, True, True, True, False, True, True]\n"
     ]
    }
   ],
   "source": [
    "x= [True, True, True, True, False, True, True]\n",
    "\n",
    "print(x)"
   ]
  },
  {
   "cell_type": "code",
   "execution_count": 4,
   "id": "19385628-6877-4be8-8c63-f2a4c778396e",
   "metadata": {},
   "outputs": [
    {
     "data": {
      "text/plain": [
       "False"
      ]
     },
     "execution_count": 4,
     "metadata": {},
     "output_type": "execute_result"
    }
   ],
   "source": [
    "all(x)  # this checks if all the values are true"
   ]
  },
  {
   "cell_type": "code",
   "execution_count": 5,
   "id": "42fda80f-ecdc-4215-9415-3ea767efb47a",
   "metadata": {},
   "outputs": [
    {
     "data": {
      "text/plain": [
       "True"
      ]
     },
     "execution_count": 5,
     "metadata": {},
     "output_type": "execute_result"
    }
   ],
   "source": [
    "any(x)   # this check if there is any value which is true"
   ]
  },
  {
   "cell_type": "code",
   "execution_count": null,
   "id": "a6fae4c3-58d5-4eaa-a0f9-1ce6725d82d3",
   "metadata": {},
   "outputs": [],
   "source": [
    "# list comprehensions\n",
    "# Nested data structures\n",
    "# Working with collections Chapter\n",
    "# OOPS Introduction\n",
    "# Class and Object\n",
    "# Inheritance and Polymorphism\n",
    "# Method overload and overriding"
   ]
  },
  {
   "cell_type": "code",
   "execution_count": null,
   "id": "34b0ef85-01ff-4aea-b289-9e00303329cf",
   "metadata": {},
   "outputs": [],
   "source": [
    "# List Comprehension"
   ]
  },
  {
   "cell_type": "code",
   "execution_count": 6,
   "id": "0372bd12-eaff-4a65-9759-fe3c7b4c21c6",
   "metadata": {},
   "outputs": [],
   "source": [
    "new_list = []\n",
    "for i in range(1,11):\n",
    "    new_list.append(i)"
   ]
  },
  {
   "cell_type": "code",
   "execution_count": 7,
   "id": "d851ac8c-06e6-4197-ace4-79028e241a3b",
   "metadata": {},
   "outputs": [
    {
     "name": "stdout",
     "output_type": "stream",
     "text": [
      "[1, 2, 3, 4, 5, 6, 7, 8, 9, 10]\n"
     ]
    }
   ],
   "source": [
    "print(new_list)"
   ]
  },
  {
   "cell_type": "code",
   "execution_count": 8,
   "id": "eed5ebde-0e4d-4a86-babb-33832f8291ee",
   "metadata": {},
   "outputs": [
    {
     "data": {
      "text/plain": [
       "[1, 2, 3, 4, 5, 6, 7, 8, 9, 10]"
      ]
     },
     "execution_count": 8,
     "metadata": {},
     "output_type": "execute_result"
    }
   ],
   "source": [
    "[i for i in range(1,11)]"
   ]
  },
  {
   "cell_type": "code",
   "execution_count": 9,
   "id": "00ea47c7-03a5-40ec-b6d5-73315f589f75",
   "metadata": {},
   "outputs": [
    {
     "data": {
      "text/plain": [
       "[5, 10, 15, 20, 25, 30, 35, 40, 45, 50]"
      ]
     },
     "execution_count": 9,
     "metadata": {},
     "output_type": "execute_result"
    }
   ],
   "source": [
    "[5*i for i in range(1,11)]"
   ]
  },
  {
   "cell_type": "code",
   "execution_count": 10,
   "id": "d103c767-0354-4567-8c17-19b682cbd0eb",
   "metadata": {},
   "outputs": [
    {
     "data": {
      "text/plain": [
       "[10, 20, 30, 40, 50]"
      ]
     },
     "execution_count": 10,
     "metadata": {},
     "output_type": "execute_result"
    }
   ],
   "source": [
    "[5*i for i in range(1,11) if i%2==0]"
   ]
  },
  {
   "cell_type": "code",
   "execution_count": null,
   "id": "02045f78-eaeb-424b-99dd-7d6d9d4ee31d",
   "metadata": {},
   "outputs": [],
   "source": [
    "# Question:- \n",
    "\n",
    "[\"ate\", \"tea\", \"evil\", \"vile\", \"live\", \"listen\", \"silent\"]\n",
    "\n",
    "Code should be dynamic, it should work for a different input also.\n",
    "Write a code to separate the anagrams together such that you see a result like this:-\n",
    "[[\"ate\", \"tea\"], [\"listen\", \"silent\"], [\"vile\", \"live\", \"evil\"]]\n",
    "\n",
    "# 9:11"
   ]
  },
  {
   "cell_type": "code",
   "execution_count": 11,
   "id": "ce65d5e1-29c3-4edf-959a-e5124a394465",
   "metadata": {},
   "outputs": [
    {
     "data": {
      "text/plain": [
       "['a', 'e', 't']"
      ]
     },
     "execution_count": 11,
     "metadata": {},
     "output_type": "execute_result"
    }
   ],
   "source": [
    "sorted(\"ate\")"
   ]
  },
  {
   "cell_type": "code",
   "execution_count": 12,
   "id": "eaa306af-726c-4456-9311-b8bf6f51e4c8",
   "metadata": {},
   "outputs": [
    {
     "data": {
      "text/plain": [
       "['a', 'e', 't']"
      ]
     },
     "execution_count": 12,
     "metadata": {},
     "output_type": "execute_result"
    }
   ],
   "source": [
    "sorted(\"tea\")"
   ]
  },
  {
   "cell_type": "code",
   "execution_count": 13,
   "id": "a68b77c9-0278-4a3c-8093-fd548c041cff",
   "metadata": {},
   "outputs": [
    {
     "name": "stdout",
     "output_type": "stream",
     "text": [
      "['a', 'e', 't']\n",
      "['a', 'e', 't']\n",
      "['e', 'i', 'l', 'v']\n",
      "['e', 'i', 'l', 'v']\n",
      "['e', 'i', 'l', 'v']\n",
      "['e', 'i', 'l', 'n', 's', 't']\n",
      "['e', 'i', 'l', 'n', 's', 't']\n"
     ]
    }
   ],
   "source": [
    "x = [\"ate\", \"tea\", \"evil\", \"vile\", \"live\", \"listen\", \"silent\"]\n",
    "for word in x:\n",
    "    print(sorted(word))"
   ]
  },
  {
   "cell_type": "code",
   "execution_count": 16,
   "id": "39564e75-bc49-4fb4-b430-362904d4ac7a",
   "metadata": {},
   "outputs": [
    {
     "name": "stdout",
     "output_type": "stream",
     "text": [
      "aet\n",
      "aet\n",
      "eilv\n",
      "eilv\n",
      "eilv\n",
      "eilnst\n",
      "eilnst\n"
     ]
    }
   ],
   "source": [
    "x = [\"ate\", \"tea\", \"evil\", \"vile\", \"live\", \"listen\", \"silent\"]\n",
    "for word in x:\n",
    "    sorted_word_list = sorted(word)\n",
    "    sorted_word = \"\".join(sorted_word_list)\n",
    "    print(sorted_word)"
   ]
  },
  {
   "cell_type": "code",
   "execution_count": 17,
   "id": "868bca6f-ec31-4395-bace-eda5519e9857",
   "metadata": {},
   "outputs": [
    {
     "name": "stdout",
     "output_type": "stream",
     "text": [
      "{'aet': ['ate', 'tea'], 'eilv': ['evil', 'vile', 'live'], 'eilnst': ['listen', 'silent']}\n"
     ]
    }
   ],
   "source": [
    "final_dict = {}\n",
    "\n",
    "x = [\"ate\", \"tea\", \"evil\", \"vile\", \"live\", \"listen\", \"silent\"]\n",
    "\n",
    "for word in x:\n",
    "    sorted_word_list = sorted(word)\n",
    "    sorted_word = \"\".join(sorted_word_list)\n",
    "    if sorted_word in final_dict:\n",
    "        final_dict[sorted_word].append(word)\n",
    "    else:\n",
    "        final_dict[sorted_word] = [word]\n",
    "\n",
    "print(final_dict)"
   ]
  },
  {
   "cell_type": "code",
   "execution_count": null,
   "id": "966b3d32-edec-4cce-8328-db76a1321408",
   "metadata": {},
   "outputs": [],
   "source": [
    "# Remove vowels from a string.\n",
    "\n",
    "# input word = \"apple\"\n",
    "# ouput = ['p', 'p', 'l']\n",
    "\n",
    "# input word = \"banana\"\n",
    "# ouput = ['b', 'n', 'n']\n",
    "\n",
    "# 9: 27"
   ]
  },
  {
   "cell_type": "code",
   "execution_count": 21,
   "id": "a9a50806-2e00-49e9-9c47-77efe5542b45",
   "metadata": {},
   "outputs": [
    {
     "name": "stdout",
     "output_type": "stream",
     "text": [
      "Yes a\n",
      "No p\n",
      "No p\n",
      "No l\n",
      "Yes e\n",
      "['p', 'p', 'l']\n"
     ]
    }
   ],
   "source": [
    "word = \"apple\"\n",
    "\n",
    "vowels = ['a', 'e', 'i', 'o', 'u']\n",
    "\n",
    "output = []\n",
    "for char in word:\n",
    "    if char in vowels:\n",
    "        print('Yes', char)\n",
    "    else:\n",
    "        output.append(char)\n",
    "        print('No', char)\n",
    "\n",
    "print(output)"
   ]
  },
  {
   "cell_type": "code",
   "execution_count": 25,
   "id": "e51c0f10-3899-4708-8d6d-83b3b3320c4d",
   "metadata": {},
   "outputs": [],
   "source": [
    "def remove_vowels(word):\n",
    "    vowels = ['a', 'e', 'i', 'o', 'u']\n",
    "    output = []\n",
    "    for char in word:\n",
    "        if char not in vowels:\n",
    "            output.append(char)\n",
    "    return output"
   ]
  },
  {
   "cell_type": "code",
   "execution_count": 27,
   "id": "acf9d30e-3937-4380-956f-3b0947f78780",
   "metadata": {},
   "outputs": [
    {
     "data": {
      "text/plain": [
       "['b', 'n', 'n']"
      ]
     },
     "execution_count": 27,
     "metadata": {},
     "output_type": "execute_result"
    }
   ],
   "source": [
    "remove_vowels('banana')"
   ]
  },
  {
   "cell_type": "code",
   "execution_count": 28,
   "id": "4cbe376e-76d9-406c-b62f-a5254d02ac35",
   "metadata": {},
   "outputs": [
    {
     "data": {
      "text/plain": [
       "['p', 'p', 'l']"
      ]
     },
     "execution_count": 28,
     "metadata": {},
     "output_type": "execute_result"
    }
   ],
   "source": [
    "remove_vowels('apple')"
   ]
  },
  {
   "cell_type": "code",
   "execution_count": 29,
   "id": "1faa6997-e1d8-4dd5-852c-2f91011e4109",
   "metadata": {},
   "outputs": [
    {
     "data": {
      "text/plain": [
       "['m', 'h', 't', ' ', 's', 'n', 'g', 'h', ' ', 'c', 'h', 'h', 'n']"
      ]
     },
     "execution_count": 29,
     "metadata": {},
     "output_type": "execute_result"
    }
   ],
   "source": [
    "remove_vowels('mohit singh chouhan')"
   ]
  },
  {
   "cell_type": "code",
   "execution_count": 30,
   "id": "5f6a044c-255c-47d0-8433-4e36fec0f318",
   "metadata": {},
   "outputs": [
    {
     "data": {
      "text/plain": [
       "['v', 'l', 'v', 'n']"
      ]
     },
     "execution_count": 30,
     "metadata": {},
     "output_type": "execute_result"
    }
   ],
   "source": [
    "remove_vowels('velavan')"
   ]
  },
  {
   "cell_type": "code",
   "execution_count": 31,
   "id": "b6d314fb-bad8-4ceb-964f-484f5d5105d9",
   "metadata": {},
   "outputs": [
    {
     "data": {
      "text/plain": [
       "['r', 't', 'w', 'k']"
      ]
     },
     "execution_count": 31,
     "metadata": {},
     "output_type": "execute_result"
    }
   ],
   "source": [
    "remove_vowels('ritwik')"
   ]
  },
  {
   "cell_type": "code",
   "execution_count": null,
   "id": "dd0d6a94-73c0-4ffe-ac07-6f771e5f0168",
   "metadata": {},
   "outputs": [],
   "source": [
    "# collections is a library which contains non standard data structures which you can use in your day to day coding\n",
    "# as they are smart"
   ]
  },
  {
   "cell_type": "code",
   "execution_count": 32,
   "id": "0c33342f-fd13-4ab6-a570-d846a7001a5b",
   "metadata": {},
   "outputs": [
    {
     "name": "stdout",
     "output_type": "stream",
     "text": [
      "10\n",
      "20\n"
     ]
    }
   ],
   "source": [
    "# 1. Named Tuple\n",
    "\n",
    "from collections import namedtuple\n",
    "\n",
    "Point = namedtuple(\"Point\", [\"x\", \"y\"])\n",
    "\n",
    "p = Point(10, 20)\n",
    "\n",
    "print(p.x)\n",
    "print(p.y)"
   ]
  },
  {
   "cell_type": "code",
   "execution_count": 33,
   "id": "1ae9ac40-7187-40c7-abc2-b4816cff7bfc",
   "metadata": {},
   "outputs": [
    {
     "ename": "TypeError",
     "evalue": "<lambda>() takes 3 positional arguments but 4 were given",
     "output_type": "error",
     "traceback": [
      "\u001b[0;31m---------------------------------------------------------------------------\u001b[0m",
      "\u001b[0;31mTypeError\u001b[0m                                 Traceback (most recent call last)",
      "Cell \u001b[0;32mIn[33], line 1\u001b[0m\n\u001b[0;32m----> 1\u001b[0m p \u001b[38;5;241m=\u001b[39m \u001b[43mPoint\u001b[49m\u001b[43m(\u001b[49m\u001b[38;5;241;43m10\u001b[39;49m\u001b[43m,\u001b[49m\u001b[43m \u001b[49m\u001b[38;5;241;43m20\u001b[39;49m\u001b[43m,\u001b[49m\u001b[43m \u001b[49m\u001b[38;5;241;43m30\u001b[39;49m\u001b[43m)\u001b[49m\n",
      "\u001b[0;31mTypeError\u001b[0m: <lambda>() takes 3 positional arguments but 4 were given"
     ]
    }
   ],
   "source": [
    "p = Point(10, 20, 30)"
   ]
  },
  {
   "cell_type": "code",
   "execution_count": 34,
   "id": "72bcb54e-5fa1-4801-9343-2084b632cfd2",
   "metadata": {},
   "outputs": [
    {
     "name": "stdout",
     "output_type": "stream",
     "text": [
      "{100, 23}\n"
     ]
    }
   ],
   "source": [
    "x = set()\n",
    "x.add(23)\n",
    "x.add(100)\n",
    "\n",
    "print(x)"
   ]
  },
  {
   "cell_type": "code",
   "execution_count": 36,
   "id": "b9197b76-2577-4b32-99b3-0bc4807ec4ce",
   "metadata": {},
   "outputs": [],
   "source": [
    "from collections import namedtuple\n",
    "\n",
    "Student = namedtuple(\"Student\", [\"student_class\", \"section\", \"roll_no\"])\n",
    "\n",
    "st = Student(\"10\", \"B\", \"123\")"
   ]
  },
  {
   "cell_type": "code",
   "execution_count": 37,
   "id": "7d353141-2ee2-4dbe-9311-ad83c0c5c47d",
   "metadata": {},
   "outputs": [
    {
     "data": {
      "text/plain": [
       "'10'"
      ]
     },
     "execution_count": 37,
     "metadata": {},
     "output_type": "execute_result"
    }
   ],
   "source": [
    "st.student_class"
   ]
  },
  {
   "cell_type": "code",
   "execution_count": 38,
   "id": "1009e333-de1e-4988-a404-86963cea91e9",
   "metadata": {},
   "outputs": [
    {
     "data": {
      "text/plain": [
       "'B'"
      ]
     },
     "execution_count": 38,
     "metadata": {},
     "output_type": "execute_result"
    }
   ],
   "source": [
    "st.section"
   ]
  },
  {
   "cell_type": "code",
   "execution_count": 39,
   "id": "a8f7edd3-d962-40d6-a297-f95860ebc89c",
   "metadata": {},
   "outputs": [
    {
     "data": {
      "text/plain": [
       "'123'"
      ]
     },
     "execution_count": 39,
     "metadata": {},
     "output_type": "execute_result"
    }
   ],
   "source": [
    "st.roll_no"
   ]
  },
  {
   "cell_type": "code",
   "execution_count": 49,
   "id": "3eda65c1-d9a9-4a58-a307-a4de4f3797b6",
   "metadata": {},
   "outputs": [],
   "source": [
    "# import collections\n",
    "# help(collections)"
   ]
  },
  {
   "cell_type": "code",
   "execution_count": 43,
   "id": "70842cfd-9b4d-4950-880c-45e8b071618d",
   "metadata": {},
   "outputs": [],
   "source": [
    "from collections import Counter"
   ]
  },
  {
   "cell_type": "code",
   "execution_count": 44,
   "id": "e83f2e4e-6db8-4f51-88d0-1856cb559cf9",
   "metadata": {},
   "outputs": [
    {
     "name": "stdout",
     "output_type": "stream",
     "text": [
      "Counter({' ': 8, 'o': 4, 'e': 2, 'u': 2, 'r': 2, 'a': 2, 't': 1, 'h': 1, 'q': 1, 'i': 1, 'c': 1, 'k': 1, 'b': 1, 'w': 1, 'n': 1, 'f': 1, 'x': 1, 'j': 1, 'm': 1, 'p': 1, 's': 1, 'v': 1, 'l': 1, 'z': 1, 'y': 1, 'd': 1, 'g': 1})\n"
     ]
    }
   ],
   "source": [
    "cnt = Counter(\"the quick brown fox jumps over a lazy dog\")\n",
    "\n",
    "print(cnt)"
   ]
  },
  {
   "cell_type": "code",
   "execution_count": 45,
   "id": "e29b0bfd-7fad-4280-9bb0-5404cf283bb8",
   "metadata": {},
   "outputs": [
    {
     "data": {
      "text/plain": [
       "[(' ', 8), ('o', 4)]"
      ]
     },
     "execution_count": 45,
     "metadata": {},
     "output_type": "execute_result"
    }
   ],
   "source": [
    "cnt.most_common(2)"
   ]
  },
  {
   "cell_type": "code",
   "execution_count": 51,
   "id": "aff59f01-f6ca-45b6-aadd-b1fe9db4e31a",
   "metadata": {},
   "outputs": [],
   "source": [
    "from collections import defaultdict"
   ]
  },
  {
   "cell_type": "code",
   "execution_count": 52,
   "id": "fa6b55e8-e1e4-43cf-94c8-5f40bbc1ad7c",
   "metadata": {},
   "outputs": [
    {
     "name": "stdout",
     "output_type": "stream",
     "text": [
      "defaultdict(<class 'list'>, {'aet': ['ate', 'tea'], 'eilv': ['evil', 'vile', 'live'], 'eilnst': ['listen', 'silent']})\n"
     ]
    }
   ],
   "source": [
    "dd_list = defaultdict(list)\n",
    "\n",
    "x = [\"ate\", \"tea\", \"evil\", \"vile\", \"live\", \"listen\", \"silent\"]\n",
    "\n",
    "for word in x:\n",
    "    sorted_word_list = sorted(word)\n",
    "    sorted_word = \"\".join(sorted_word_list)\n",
    "    dd_list[sorted_word].append(word)\n",
    "\n",
    "print(dd_list)"
   ]
  },
  {
   "cell_type": "code",
   "execution_count": null,
   "id": "cdf3787d-5451-4e63-ba03-b896e4a95abf",
   "metadata": {},
   "outputs": [],
   "source": [
    "# OOP Introduction\n",
    "# Class and Object\n",
    "\n",
    "# Object Oriented Programming: That you use objects (custom created or imported) to write clean programs where you will be using methods\n",
    "# & actions tied to that object.\n",
    "# helps us write better readable & clean code"
   ]
  },
  {
   "cell_type": "code",
   "execution_count": null,
   "id": "dd52cc52-0a6f-48af-a07d-19da11bb6832",
   "metadata": {},
   "outputs": [],
   "source": [
    "# What is a Class?\n",
    "Class is a blueprint/ template which you define customly and than can create any number of objects out of that.\n",
    "\n",
    "# What is an Object?\n",
    "Object is a unique copy of the blueprint.\n",
    "\n",
    "\n",
    "# Application Form photocopies"
   ]
  },
  {
   "cell_type": "code",
   "execution_count": 55,
   "id": "4e6572e3-2c15-4934-8918-5d1148a18381",
   "metadata": {},
   "outputs": [],
   "source": [
    "class Animal:\n",
    "    def speak(self):\n",
    "        print(\"Animal speaks!\")\n",
    "\n",
    "class Plant:\n",
    "    def water_it(self):\n",
    "        print(\"Thanks for the water\")"
   ]
  },
  {
   "cell_type": "code",
   "execution_count": 57,
   "id": "9ae51328-d94e-4bee-ac3f-39f1f20d3190",
   "metadata": {},
   "outputs": [
    {
     "name": "stdout",
     "output_type": "stream",
     "text": [
      "Animal speaks!\n",
      "Animal speaks!\n"
     ]
    }
   ],
   "source": [
    "dog = Animal()\n",
    "dog.speak()\n",
    "\n",
    "\n",
    "cat = Animal()\n",
    "cat.speak()"
   ]
  },
  {
   "cell_type": "code",
   "execution_count": 58,
   "id": "e377cc52-514a-4e00-9fd3-c0c9890d2b7d",
   "metadata": {},
   "outputs": [
    {
     "name": "stdout",
     "output_type": "stream",
     "text": [
      "Thanks for the water\n",
      "Thanks for the water\n"
     ]
    }
   ],
   "source": [
    "money_plant = Plant() # creating an object of class Plant\n",
    "\n",
    "money_plant.water_it()\n",
    "\n",
    "ashoka_tree = Plant()\n",
    "\n",
    "ashoka_tree.water_it()"
   ]
  },
  {
   "cell_type": "code",
   "execution_count": 59,
   "id": "4af2b31c-a46b-4c61-8675-b64b245ae8b9",
   "metadata": {},
   "outputs": [],
   "source": [
    "class StudentApplicationForm:\n",
    "    def __init__(self, name, roll_no, city):\n",
    "        self.name = name\n",
    "        self.roll_number = roll_no\n",
    "        self.city = city\n",
    "\n",
    "    def study(self):\n",
    "        print(self.name, 'is studying') "
   ]
  },
  {
   "cell_type": "code",
   "execution_count": 60,
   "id": "90ca39b8-4918-4883-97c8-43867a3bc03d",
   "metadata": {},
   "outputs": [],
   "source": [
    "ritwik = StudentApplicationForm('Ritwik', 1, 'Bangalore')"
   ]
  },
  {
   "cell_type": "code",
   "execution_count": 61,
   "id": "12663eb9-dc0d-444e-945e-802264d25d58",
   "metadata": {},
   "outputs": [],
   "source": [
    "velavan = StudentApplicationForm('Velavan', 2, 'Chennai')"
   ]
  },
  {
   "cell_type": "code",
   "execution_count": 62,
   "id": "be084601-168d-4d15-b912-445afe1524c8",
   "metadata": {},
   "outputs": [],
   "source": [
    "mohit = StudentApplicationForm('Mohit', 3, 'Jaipur')"
   ]
  },
  {
   "cell_type": "code",
   "execution_count": 63,
   "id": "b0648b2f-7950-4836-b382-5b8f8858b9e9",
   "metadata": {},
   "outputs": [
    {
     "name": "stdout",
     "output_type": "stream",
     "text": [
      "Velavan is studying\n"
     ]
    }
   ],
   "source": [
    "velavan.study()"
   ]
  },
  {
   "cell_type": "code",
   "execution_count": 64,
   "id": "7d82ccbf-7a8b-4287-a1b1-84747159617b",
   "metadata": {},
   "outputs": [
    {
     "name": "stdout",
     "output_type": "stream",
     "text": [
      "Mohit is studying\n"
     ]
    }
   ],
   "source": [
    "mohit.study()"
   ]
  },
  {
   "cell_type": "code",
   "execution_count": 65,
   "id": "230551f9-d3a7-4e43-ae5a-ebe30d789c9f",
   "metadata": {},
   "outputs": [
    {
     "name": "stdout",
     "output_type": "stream",
     "text": [
      "Ritwik is studying\n"
     ]
    }
   ],
   "source": [
    "ritwik.study()"
   ]
  },
  {
   "cell_type": "code",
   "execution_count": 68,
   "id": "e5b38835-5774-4062-8bfb-13a94cb1721b",
   "metadata": {},
   "outputs": [
    {
     "name": "stdout",
     "output_type": "stream",
     "text": [
      "Ritwik 1\n",
      "Ritwik is studying\n",
      "Mohit 3\n",
      "Mohit is studying\n",
      "Velavan 2\n",
      "Velavan is studying\n"
     ]
    }
   ],
   "source": [
    "list_of_students = [ritwik, mohit, velavan]\n",
    "\n",
    "for st in list_of_students:\n",
    "    print(st.name, st.roll_number)\n",
    "    st.study()"
   ]
  },
  {
   "cell_type": "code",
   "execution_count": 67,
   "id": "55fdd090-0f13-4bb4-a33d-6f4fa5f24678",
   "metadata": {},
   "outputs": [
    {
     "data": {
      "text/plain": [
       "2"
      ]
     },
     "execution_count": 67,
     "metadata": {},
     "output_type": "execute_result"
    }
   ],
   "source": [
    "velavan.roll_number"
   ]
  },
  {
   "cell_type": "code",
   "execution_count": null,
   "id": "0b1df533-8995-4708-9de5-44ace9c02d16",
   "metadata": {},
   "outputs": [],
   "source": [
    "# Inheritance"
   ]
  },
  {
   "cell_type": "code",
   "execution_count": 79,
   "id": "724e41c1-cc45-4d37-96f0-c191bffe9253",
   "metadata": {},
   "outputs": [],
   "source": [
    "class Animal:\n",
    "    def __init__(self, name):\n",
    "        self.name = name\n",
    "\n",
    "    def speak(self):\n",
    "        print(self.name, 'is a animal and it speaks!')\n",
    "\n",
    "    def eat(self):\n",
    "        print(self.name, 'is eating')"
   ]
  },
  {
   "cell_type": "code",
   "execution_count": 91,
   "id": "0fc9487c-395e-4b6d-83b6-27374657be69",
   "metadata": {},
   "outputs": [],
   "source": [
    "class Dog(Animal):\n",
    "    def speak(self):\n",
    "        print(self.name, 'Woof Woof!!')\n",
    "\n",
    "    def eat(self):\n",
    "        print('Dog', self.name, 'is eating happily')"
   ]
  },
  {
   "cell_type": "code",
   "execution_count": 92,
   "id": "8481c6a3-8b46-4b7d-88c8-ac11e52cdd2f",
   "metadata": {},
   "outputs": [],
   "source": [
    "class Cat(Animal):\n",
    "    def speak(self):\n",
    "        print(self.name, \"Meow Meow!!\")"
   ]
  },
  {
   "cell_type": "code",
   "execution_count": 93,
   "id": "3d591e19-d2b3-475f-8b89-64c7630515cf",
   "metadata": {},
   "outputs": [
    {
     "name": "stdout",
     "output_type": "stream",
     "text": [
      "Dog Yuki is eating happily\n",
      "Martin is eating\n"
     ]
    }
   ],
   "source": [
    "yuki = Dog(\"Yuki\")\n",
    "martin = Cat(\"Martin\")\n",
    "for animal in [yuki, martin]:\n",
    "    animal.eat()"
   ]
  },
  {
   "cell_type": "code",
   "execution_count": 82,
   "id": "84887bf8-bb57-40ba-bf3e-731cab22f3ed",
   "metadata": {},
   "outputs": [
    {
     "name": "stdout",
     "output_type": "stream",
     "text": [
      "Yuki Woof Woof!!\n"
     ]
    }
   ],
   "source": [
    "yuki = Dog(\"Yuki\")\n",
    "\n",
    "yuki.speak()"
   ]
  },
  {
   "cell_type": "code",
   "execution_count": 83,
   "id": "35b4c376-5ddf-4016-855e-cd562ab1d69a",
   "metadata": {},
   "outputs": [
    {
     "name": "stdout",
     "output_type": "stream",
     "text": [
      "Martin Meow Meow!!\n"
     ]
    }
   ],
   "source": [
    "martin = Cat(\"Martin\")\n",
    "\n",
    "martin.speak()"
   ]
  },
  {
   "cell_type": "code",
   "execution_count": null,
   "id": "a081eba8-4efc-4c50-aabd-4654ce665a52",
   "metadata": {},
   "outputs": [],
   "source": [
    "# This method overriding is part of Polymorphism"
   ]
  },
  {
   "cell_type": "code",
   "execution_count": 94,
   "id": "33ba5a63-5a2e-4639-bd4c-e6d6fbc22b04",
   "metadata": {},
   "outputs": [],
   "source": [
    "class Snake(Animal):\n",
    "    def drink_milk(self):\n",
    "        print(self.name, 'is drinking milk')"
   ]
  },
  {
   "cell_type": "code",
   "execution_count": 95,
   "id": "5c1c740a-49e8-4f3e-b17b-7f6daef1b664",
   "metadata": {},
   "outputs": [
    {
     "name": "stdout",
     "output_type": "stream",
     "text": [
      "Cobra is a animal and it speaks!\n"
     ]
    }
   ],
   "source": [
    "cobra = Snake('Cobra')\n",
    "cobra.speak()"
   ]
  },
  {
   "cell_type": "code",
   "execution_count": 96,
   "id": "6d8d5c98-5670-4253-88fa-3186f0d8a55e",
   "metadata": {},
   "outputs": [
    {
     "name": "stdout",
     "output_type": "stream",
     "text": [
      "Cobra is drinking milk\n"
     ]
    }
   ],
   "source": [
    "cobra.drink_milk()"
   ]
  },
  {
   "cell_type": "code",
   "execution_count": null,
   "id": "7a93e7c0-3e23-49b2-ae49-a80805363112",
   "metadata": {},
   "outputs": [],
   "source": [
    "# Homework:-\n",
    "# https://www.hackerrank.com/challenges/py-collections-namedtuple/problem?isFullScreen=true\n",
    "# https://www.hackerrank.com/challenges/list-comprehensions/problem?isFullScreen=true\n",
    "# https://www.hackerrank.com/challenges/nested-list/problem?isFullScreen=true\n",
    "# https://www.hackerrank.com/challenges/python-string-split-and-join/problem?isFullScreen=true\n",
    "# https://www.hackerrank.com/challenges/collections-counter/problem?isFullScreen=true"
   ]
  },
  {
   "cell_type": "code",
   "execution_count": null,
   "id": "6f5a0661-835d-4738-9f54-ae3957b80d72",
   "metadata": {},
   "outputs": [],
   "source": []
  }
 ],
 "metadata": {
  "kernelspec": {
   "display_name": "Python 3 (ipykernel)",
   "language": "python",
   "name": "python3"
  },
  "language_info": {
   "codemirror_mode": {
    "name": "ipython",
    "version": 3
   },
   "file_extension": ".py",
   "mimetype": "text/x-python",
   "name": "python",
   "nbconvert_exporter": "python",
   "pygments_lexer": "ipython3",
   "version": "3.9.7"
  }
 },
 "nbformat": 4,
 "nbformat_minor": 5
}
