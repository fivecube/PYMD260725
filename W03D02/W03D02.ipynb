{
 "cells": [
  {
   "cell_type": "code",
   "execution_count": null,
   "id": "81a895f7-d34b-4de0-8f6c-b5e47051ec67",
   "metadata": {},
   "outputs": [],
   "source": [
    "# File reading and writing\n",
    "# Working with different file formats (CSV, JSON, XML)\n",
    "# Exception handling\n",
    "# Creating custom exceptions\n",
    "# Context managers\n",
    "# Logging\n",
    "# Working with paths and directories"
   ]
  },
  {
   "cell_type": "code",
   "execution_count": 1,
   "id": "671797bb-571f-4dd8-825d-093013dd49ca",
   "metadata": {},
   "outputs": [],
   "source": [
    "# File reading and writing\n",
    "Important Things:- File should be closed once read.\n",
    "\n",
    "# fp = open(\"hello.txt, \"w\")\n",
    "# fp.write(\"mango\")\n",
    "# fp.close()\n",
    "\n",
    "with open(\"hello.txt\", \"w\") as f:\n",
    "    f.write(\"We are learning Python, and it feels so good!!\\n\")\n",
    "    f.write(\"This is how file writing works in Python\")\n",
    "\n",
    "#file is automatically closed."
   ]
  },
  {
   "cell_type": "code",
   "execution_count": 4,
   "id": "7fa0840b-1a0a-4366-8f8e-5e78c720675c",
   "metadata": {},
   "outputs": [
    {
     "name": "stdout",
     "output_type": "stream",
     "text": [
      "File Content This is Line1\n",
      "This is Line2\n"
     ]
    }
   ],
   "source": [
    "with open(\"file_read_test.txt\", \"r\") as fp:\n",
    "    content = fp.read()\n",
    "    print('File Content', content)\n",
    "# come here"
   ]
  },
  {
   "cell_type": "code",
   "execution_count": null,
   "id": "bb21cba4-d0c2-445f-8468-0128e8e00dc6",
   "metadata": {},
   "outputs": [],
   "source": [
    "# CSV file?\n",
    "\n",
    "# comma separated value\n",
    "\n",
    "csv_test1.csv\n",
    "# name, roll_no\n",
    "# Mohit, 2\n",
    "# Velavan, 1\n",
    "# Ritwik, 3"
   ]
  },
  {
   "cell_type": "code",
   "execution_count": 5,
   "id": "10bc65f2-d9bc-4fe0-95cc-2c35351693b4",
   "metadata": {},
   "outputs": [
    {
     "name": "stdout",
     "output_type": "stream",
     "text": [
      "** ['name', ' roll_no'] **\n",
      "** ['Mohit', ' 2'] **\n",
      "** ['Velavan', ' 1'] **\n",
      "** ['Ritwik', ' 3'] **\n"
     ]
    }
   ],
   "source": [
    "import csv\n",
    "\n",
    "\n",
    "with open(\"csv_test1.csv\", \"r\") as fp:\n",
    "    reader = csv.reader(fp)\n",
    "    for row in reader:\n",
    "        print('**', row, '**')"
   ]
  },
  {
   "cell_type": "code",
   "execution_count": 6,
   "id": "6b719c89-ec26-412b-80a5-cc9ea5620b92",
   "metadata": {},
   "outputs": [],
   "source": [
    "with open(\"fruits.csv\", \"w\") as fp:\n",
    "    writer = csv.writer(fp)\n",
    "    writer.writerow(['name', 'quantity'])\n",
    "    writer.writerow(['apple', '3'])\n",
    "    writer.writerow(['mango', '5'])"
   ]
  },
  {
   "cell_type": "code",
   "execution_count": 9,
   "id": "864644f6-5f09-46a3-a51d-a6e3111b6d9b",
   "metadata": {},
   "outputs": [
    {
     "name": "stdout",
     "output_type": "stream",
     "text": [
      "{\"name\": \"Velavan\", \"age\": 28, \"languages\": [\"Python\", \"Java\"], \"magical\": true}\n"
     ]
    }
   ],
   "source": [
    "# JSON\n",
    "\n",
    "# Javascript Object Notation\n",
    "\n",
    "# REST API\n",
    "\n",
    "data_dict = {\n",
    "    \"name\": \"Velavan\",\n",
    "    \"age\": 28,\n",
    "    \"languages\": [\"Python\", \"Java\"],\n",
    "    \"magical\": True\n",
    "}\n",
    "\n",
    "import json\n",
    "\n",
    "json_data = json.dumps(data_dict)\n",
    "\n",
    "print(json_data)\n",
    "\n",
    "Difference between dict and json format.\n",
    "1) dict is only understandable by Python, but json is understandable by almost all programming languages.\n",
    "2) boolean have different casing.\n",
    "3) double quotes required in json.\n",
    "4) null instead of None"
   ]
  },
  {
   "cell_type": "code",
   "execution_count": 10,
   "id": "1d2c0564-6c46-4108-af9f-1ae15924b382",
   "metadata": {},
   "outputs": [],
   "source": [
    "with open(\"data.json\", \"w\") as fp:\n",
    "    json.dump(data_dict, fp, indent=4)"
   ]
  },
  {
   "cell_type": "code",
   "execution_count": 12,
   "id": "405bcb26-aec1-46e0-a377-287aaea41204",
   "metadata": {},
   "outputs": [
    {
     "name": "stdout",
     "output_type": "stream",
     "text": [
      "{'name': 'Ritwik', 'age': 28, 'languages': ['Python', 'Java', 'C++', 'Javascript'], 'magical': False, 'happiest': True} <class 'dict'>\n"
     ]
    }
   ],
   "source": [
    "with open(\"json_read_test.json\", \"r\") as fp:\n",
    "    loaded_data = json.load(fp)\n",
    "    print(loaded_data, type(loaded_data))"
   ]
  },
  {
   "cell_type": "code",
   "execution_count": 17,
   "id": "eda5ebe8-c7c6-47d9-b464-2560a36d5d36",
   "metadata": {},
   "outputs": [
    {
     "name": "stdin",
     "output_type": "stream",
     "text": [
      "give me number 0\n"
     ]
    },
    {
     "ename": "ZeroDivisionError",
     "evalue": "division by zero",
     "output_type": "error",
     "traceback": [
      "\u001b[0;31m---------------------------------------------------------------------------\u001b[0m",
      "\u001b[0;31mZeroDivisionError\u001b[0m                         Traceback (most recent call last)",
      "Cell \u001b[0;32mIn[17], line 4\u001b[0m\n\u001b[1;32m      1\u001b[0m \u001b[38;5;66;03m# Exception handling\u001b[39;00m\n\u001b[1;32m      3\u001b[0m num \u001b[38;5;241m=\u001b[39m \u001b[38;5;28mint\u001b[39m(\u001b[38;5;28minput\u001b[39m(\u001b[38;5;124m\"\u001b[39m\u001b[38;5;124mgive me number\u001b[39m\u001b[38;5;124m\"\u001b[39m))\n\u001b[0;32m----> 4\u001b[0m \u001b[38;5;28mprint\u001b[39m(\u001b[38;5;241;43m10\u001b[39;49m\u001b[38;5;241;43m/\u001b[39;49m\u001b[43mnum\u001b[49m)\n\u001b[1;32m      5\u001b[0m \u001b[38;5;28mprint\u001b[39m(\u001b[38;5;124m'\u001b[39m\u001b[38;5;124mI am here now\u001b[39m\u001b[38;5;124m'\u001b[39m)\n",
      "\u001b[0;31mZeroDivisionError\u001b[0m: division by zero"
     ]
    }
   ],
   "source": [
    "# Exception handling\n",
    "\n",
    "num = int(input(\"give me number\"))\n",
    "print(10/num)\n",
    "print('I am here now')"
   ]
  },
  {
   "cell_type": "code",
   "execution_count": 16,
   "id": "32f76b27-4b86-4bd2-a305-8910f204981c",
   "metadata": {},
   "outputs": [
    {
     "name": "stdin",
     "output_type": "stream",
     "text": [
      "give me number 0\n"
     ]
    },
    {
     "name": "stdout",
     "output_type": "stream",
     "text": [
      "Something went wrong division by zero\n",
      "I am here now\n"
     ]
    }
   ],
   "source": [
    "try:\n",
    "    num = int(input(\"give me number\"))\n",
    "    print(10/num)\n",
    "except Exception as exc:\n",
    "    print('Something went wrong', exc)\n",
    "\n",
    "print('I am here now')"
   ]
  },
  {
   "cell_type": "code",
   "execution_count": 20,
   "id": "3da27c22-632d-499c-834c-f23f979add2b",
   "metadata": {},
   "outputs": [
    {
     "ename": "IndexError",
     "evalue": "list index out of range",
     "output_type": "error",
     "traceback": [
      "\u001b[0;31m---------------------------------------------------------------------------\u001b[0m",
      "\u001b[0;31mIndexError\u001b[0m                                Traceback (most recent call last)",
      "Cell \u001b[0;32mIn[20], line 2\u001b[0m\n\u001b[1;32m      1\u001b[0m x \u001b[38;5;241m=\u001b[39m [\u001b[38;5;124m'\u001b[39m\u001b[38;5;124mmango\u001b[39m\u001b[38;5;124m'\u001b[39m, \u001b[38;5;124m'\u001b[39m\u001b[38;5;124mapple\u001b[39m\u001b[38;5;124m'\u001b[39m]\n\u001b[0;32m----> 2\u001b[0m \u001b[38;5;28mprint\u001b[39m(\u001b[43mx\u001b[49m\u001b[43m[\u001b[49m\u001b[38;5;241;43m2\u001b[39;49m\u001b[43m]\u001b[49m)\n",
      "\u001b[0;31mIndexError\u001b[0m: list index out of range"
     ]
    }
   ],
   "source": [
    "x = ['mango', 'apple']\n",
    "print(x[2])"
   ]
  },
  {
   "cell_type": "code",
   "execution_count": 19,
   "id": "13a49f4b-3451-4d80-8472-06b970cbc478",
   "metadata": {},
   "outputs": [
    {
     "name": "stdout",
     "output_type": "stream",
     "text": [
      "Something went wrong list index out of range\n"
     ]
    }
   ],
   "source": [
    "try:\n",
    "    x = ['mango', 'apple']\n",
    "    print(x[2])\n",
    "except Exception as exc:\n",
    "    print('Something went wrong', exc)"
   ]
  },
  {
   "cell_type": "code",
   "execution_count": 22,
   "id": "fcf54cb6-f718-4256-83cf-6b25ebf3efb5",
   "metadata": {},
   "outputs": [
    {
     "name": "stdin",
     "output_type": "stream",
     "text": [
      "give me number 5\n"
     ]
    },
    {
     "name": "stdout",
     "output_type": "stream",
     "text": [
      "2.0\n"
     ]
    },
    {
     "name": "stdin",
     "output_type": "stream",
     "text": [
      "give me index position 5\n"
     ]
    },
    {
     "name": "stdout",
     "output_type": "stream",
     "text": [
      "index range can not be greater than 1\n"
     ]
    }
   ],
   "source": [
    "# combine both above\n",
    "\n",
    "try:\n",
    "    num = int(input(\"give me number\"))\n",
    "    print(10/num)\n",
    "    x = ['mango', 'apple']\n",
    "    index_position = int(input(\"give me index position\"))\n",
    "    print(x[index_position])\n",
    "except ZeroDivisionError:\n",
    "    print('number can not be Zero')\n",
    "except IndexError:\n",
    "    print('index range can not be greater than 1')"
   ]
  },
  {
   "cell_type": "code",
   "execution_count": 25,
   "id": "b96643a4-f460-410d-bd30-9de0c4e99cb0",
   "metadata": {},
   "outputs": [],
   "source": [
    "# Creating custom exceptions\n",
    "\n",
    "class NegativeNumberError(Exception):\n",
    "    pass\n",
    "\n",
    "\n",
    "def check_number(num):\n",
    "    if num < 0:\n",
    "        raise NegativeNumberError(\"Negative no not allowed\")\n",
    "    return num"
   ]
  },
  {
   "cell_type": "code",
   "execution_count": 29,
   "id": "2c2a4a79-06df-4d57-b793-4ddf54d40644",
   "metadata": {},
   "outputs": [
    {
     "name": "stdin",
     "output_type": "stream",
     "text": [
      "Give me a number -56\n"
     ]
    },
    {
     "name": "stdout",
     "output_type": "stream",
     "text": [
      "Error-> Negative no not allowed\n",
      "I am at the end of the program\n"
     ]
    }
   ],
   "source": [
    "\n",
    "try:\n",
    "    num = int(input(\"Give me a number\"))\n",
    "    check_number(num)\n",
    "except NegativeNumberError as e:\n",
    "    print('Error->', e)\n",
    "\n",
    "print('I am at the end of the program')"
   ]
  },
  {
   "cell_type": "code",
   "execution_count": 30,
   "id": "83aeeee8-6672-48a0-9d58-037415f8fe15",
   "metadata": {},
   "outputs": [
    {
     "name": "stdout",
     "output_type": "stream",
     "text": [
      "This is Line1\n",
      "This is Line2\n"
     ]
    }
   ],
   "source": [
    "# Custom Context Manager\n",
    "\n",
    "class CustomOpen:\n",
    "    def __init__(self, filename, mode):\n",
    "        self.filename = filename\n",
    "        self.mode = mode\n",
    "\n",
    "    def __enter__(self):\n",
    "        self.file = open(self.filename, self.mode)\n",
    "        return self.file\n",
    "\n",
    "    def __exit__(self, exc_type, exc_val, exc_tb):\n",
    "        self.file.close()\n",
    "        return False\n",
    "\n",
    "with CustomOpen(\"file_read_test.txt\", \"r\") as fp:\n",
    "    content = fp.read()\n",
    "    print(content)"
   ]
  },
  {
   "cell_type": "code",
   "execution_count": 33,
   "id": "4578cc55-cf4f-4098-ad0d-bdd1fc2c1af9",
   "metadata": {},
   "outputs": [],
   "source": [
    "# Logging\n",
    "\n",
    "# Most important step when you're writing production ready code.\n",
    "\n",
    "import logging\n",
    "import time\n",
    "\n",
    "logging.basicConfig(filename=\"app.log\", level=logging.INFO,\n",
    "                    format=\"%(asctime)s - %(levelname)s - %(message)s\")\n",
    "\n",
    "def add_numbers(x, y):\n",
    "    logging.info(\"I am inside add_numbers fun\")\n",
    "    c = x+y\n",
    "    return c\n",
    "\n",
    "for num in range(10, 1000):\n",
    "    add_numbers(num, num+5)\n",
    "\n",
    "time.sleep(60)\n",
    "\n",
    "logging.info(\"I am outside the add_numbers fun\")"
   ]
  },
  {
   "cell_type": "code",
   "execution_count": null,
   "id": "7a9e5307-6848-4ec1-a215-7367a4c68a25",
   "metadata": {},
   "outputs": [],
   "source": [
    "import os\n",
    "os.makedirs(\"new_folder_one\")"
   ]
  },
  {
   "cell_type": "code",
   "execution_count": 37,
   "id": "5ed194f2-3df2-486b-b018-91177a9ac5fa",
   "metadata": {},
   "outputs": [
    {
     "name": "stdout",
     "output_type": "stream",
     "text": [
      "/Users/mohitchouhan/Desktop/Personal/PYMD260725/W03D02\n"
     ]
    }
   ],
   "source": [
    "# Working with paths and directories\n",
    "from pathlib import Path\n",
    "\n",
    "# Create a folder\n",
    "\n",
    "\n",
    "\n",
    "current_directory = os.getcwd()\n",
    "\n",
    "print(current_directory)"
   ]
  },
  {
   "cell_type": "code",
   "execution_count": 38,
   "id": "1a5d0f19-f4f8-4df1-b7c6-be38ec21b1ae",
   "metadata": {},
   "outputs": [
    {
     "name": "stdout",
     "output_type": "stream",
     "text": [
      "/Users/mohitchouhan/Desktop/Personal/PYMD260725/W03D02/app.log\n"
     ]
    }
   ],
   "source": [
    "p = Path(\"/Users/mohitchouhan/Desktop/Personal/PYMD260725/W03D02/app.log\")\n",
    "\n",
    "print(p)"
   ]
  },
  {
   "cell_type": "code",
   "execution_count": 39,
   "id": "70cc3f61-83b9-4388-bae9-d7e72ee73bae",
   "metadata": {},
   "outputs": [
    {
     "data": {
      "text/plain": [
       "'app.log'"
      ]
     },
     "execution_count": 39,
     "metadata": {},
     "output_type": "execute_result"
    }
   ],
   "source": [
    "p.name"
   ]
  },
  {
   "cell_type": "code",
   "execution_count": 40,
   "id": "5edbad88-d75d-4f14-a195-7d3b58f6d927",
   "metadata": {},
   "outputs": [
    {
     "data": {
      "text/plain": [
       "PosixPath('/Users/mohitchouhan/Desktop/Personal/PYMD260725/W03D02')"
      ]
     },
     "execution_count": 40,
     "metadata": {},
     "output_type": "execute_result"
    }
   ],
   "source": [
    "p.parent"
   ]
  },
  {
   "cell_type": "code",
   "execution_count": 42,
   "id": "3c1fa5c3-e9be-470d-9158-88576169e82c",
   "metadata": {},
   "outputs": [
    {
     "name": "stdout",
     "output_type": "stream",
     "text": [
      "data.json\n"
     ]
    }
   ],
   "source": [
    "p = Path(\"data.json\")\n",
    "\n",
    "print(p)"
   ]
  },
  {
   "cell_type": "code",
   "execution_count": 43,
   "id": "3fc10813-73e7-4788-b707-d2b3580e3919",
   "metadata": {},
   "outputs": [
    {
     "data": {
      "text/plain": [
       "PosixPath('.')"
      ]
     },
     "execution_count": 43,
     "metadata": {},
     "output_type": "execute_result"
    }
   ],
   "source": [
    "p.parent"
   ]
  },
  {
   "cell_type": "code",
   "execution_count": 44,
   "id": "f65b0632-d4b4-4af2-8e05-9ddc25f2b6d7",
   "metadata": {},
   "outputs": [
    {
     "data": {
      "text/plain": [
       "PosixPath('/Users/mohitchouhan/Desktop/Personal/PYMD260725/W03D02/data.json')"
      ]
     },
     "execution_count": 44,
     "metadata": {},
     "output_type": "execute_result"
    }
   ],
   "source": [
    "p.resolve()"
   ]
  },
  {
   "cell_type": "code",
   "execution_count": null,
   "id": "6ee85d07-94fe-4b19-b5c0-13ee5df67ac4",
   "metadata": {},
   "outputs": [],
   "source": [
    "Question 1) Create a Class named Bird, and create flying and non flying birds inherited from it.\n",
    "Create objects of those classes and run the function fly, non-flying bird object should return \"I can't fly\".\n",
    "\n",
    "\n",
    "# 10:15"
   ]
  },
  {
   "cell_type": "code",
   "execution_count": 47,
   "id": "22644ec7-9033-4c13-a308-de0c09129ad4",
   "metadata": {},
   "outputs": [
    {
     "name": "stdout",
     "output_type": "stream",
     "text": [
      "Morni I can not fly\n"
     ]
    }
   ],
   "source": [
    "class Bird:\n",
    "    def __init__(self, name):\n",
    "        self.name = name\n",
    "\n",
    "class FlyingBird(Bird):\n",
    "    def fly(self):\n",
    "        print(self.name, 'I am flying')\n",
    "\n",
    "class NonFlyingBird(Bird):\n",
    "    def fly(self):\n",
    "        print(self.name, 'I can not fly')\n",
    "\n",
    "peacock = NonFlyingBird(\"Morni\")\n",
    "\n",
    "peacock.fly()"
   ]
  },
  {
   "cell_type": "code",
   "execution_count": 48,
   "id": "b4bd121b-3dd8-4bae-8a72-7a61ba8fe281",
   "metadata": {},
   "outputs": [
    {
     "name": "stdout",
     "output_type": "stream",
     "text": [
      "Chidiya I am flying\n"
     ]
    }
   ],
   "source": [
    "sparrow = FlyingBird(\"Chidiya\")\n",
    "sparrow.fly()"
   ]
  },
  {
   "cell_type": "code",
   "execution_count": null,
   "id": "d5df2115-1da7-4bce-a235-6efb31064986",
   "metadata": {},
   "outputs": [],
   "source": []
  }
 ],
 "metadata": {
  "kernelspec": {
   "display_name": "Python 3 (ipykernel)",
   "language": "python",
   "name": "python3"
  },
  "language_info": {
   "codemirror_mode": {
    "name": "ipython",
    "version": 3
   },
   "file_extension": ".py",
   "mimetype": "text/x-python",
   "name": "python",
   "nbconvert_exporter": "python",
   "pygments_lexer": "ipython3",
   "version": "3.9.7"
  }
 },
 "nbformat": 4,
 "nbformat_minor": 5
}
